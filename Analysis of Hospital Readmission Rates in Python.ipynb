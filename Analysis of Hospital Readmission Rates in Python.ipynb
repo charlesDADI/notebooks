{
 "cells": [
  {
   "cell_type": "markdown",
   "metadata": {},
   "source": [
    "# Analysis of Hospital Readmission Rates"
   ]
  },
  {
   "cell_type": "markdown",
   "metadata": {},
   "source": [
    "## Introduction:"
   ]
  },
  {
   "cell_type": "markdown",
   "metadata": {},
   "source": [
    "This notebook aims to describe a basical Machine Learning methodology. Following the previous session, we are going to learn a model to predict the risk of hospital readmission."
   ]
  },
  {
   "cell_type": "markdown",
   "metadata": {},
   "source": [
    "#  Data"
   ]
  },
  {
   "cell_type": "markdown",
   "metadata": {},
   "source": [
    "Before we dive into machine learning, we’re going to explore a dataset, and figure out what might be interesting to predict.\n",
    "\n",
    "- 101,766 patients hospitalization records.\n",
    "\n",
    "- The Health Facts data I used was an extract representing 10 years (1999–2008) of clinical care at 130 hospitals"
   ]
  },
  {
   "cell_type": "markdown",
   "metadata": {},
   "source": [
    "We download the dataset from the UCI Machine Learning Repository, another great sources of free data.:"
   ]
  },
  {
   "cell_type": "code",
   "execution_count": 1,
   "metadata": {
    "collapsed": false
   },
   "outputs": [
    {
     "data": {
      "text/html": [
       "\n",
       "        <iframe\n",
       "            width=\"1000\"\n",
       "            height=\"350\"\n",
       "            src=\"http://archive.ics.uci.edu/ml/datasets/Diabetes+130-US+hospitals+for+years+1999-2008#\"\n",
       "            frameborder=\"0\"\n",
       "            allowfullscreen\n",
       "        ></iframe>\n",
       "        "
      ],
      "text/plain": [
       "<IPython.lib.display.IFrame at 0xb41e486c>"
      ]
     },
     "execution_count": 1,
     "metadata": {},
     "output_type": "execute_result"
    }
   ],
   "source": [
    "from IPython.display import IFrame\n",
    "IFrame('http://archive.ics.uci.edu/ml/datasets/Diabetes+130-US+hospitals+for+years+1999-2008#', width=1000, height=350)"
   ]
  },
  {
   "cell_type": "markdown",
   "metadata": {},
   "source": [
    "Firstly, we should load all dependancies:"
   ]
  },
  {
   "cell_type": "code",
   "execution_count": 1,
   "metadata": {
    "collapsed": false
   },
   "outputs": [
    {
     "name": "stdout",
     "output_type": "stream",
     "text": [
      "0.18.1\n"
     ]
    }
   ],
   "source": [
    "%matplotlib inline\n",
    "\n",
    "import time\n",
    "\n",
    "# Import the pandas library.\n",
    "import pandas as pd\n",
    "print pd.__version__\n",
    "# Import the numpy library.\n",
    "import numpy as np\n",
    "\n",
    "# Import the sklearn library.\n",
    "from sklearn.ensemble import RandomForestClassifier\n",
    "from sklearn.cross_validation import train_test_split\n",
    "from sklearn.preprocessing import label_binarize\n",
    "from sklearn.multiclass import OneVsRestClassifier\n",
    "from sklearn.metrics import precision_recall_curve, roc_curve, auc, confusion_matrix, average_precision_score\n",
    "from sklearn.feature_extraction import DictVectorizer as DV\n",
    "\n",
    "# Import datavisualisation libraries.\n",
    "import matplotlib.pyplot as plt\n",
    "import seaborn"
   ]
  },
  {
   "cell_type": "markdown",
   "metadata": {},
   "source": [
    "Secondly, we are loading dataset. Pandas is a very convenient data analysis package for data exploration and feature engineering."
   ]
  },
  {
   "cell_type": "code",
   "execution_count": 3,
   "metadata": {
    "collapsed": false
   },
   "outputs": [
    {
     "name": "stdout",
     "output_type": "stream",
     "text": [
      "(101766, 50)\n"
     ]
    }
   ],
   "source": [
    "# Read in the data.\n",
    "df = pd.read_csv(\"/home/charles-abner/Documents/dataset_diabetes/diabetic_data.csv\")\n",
    "print(df.shape) #we take a look on the dimension"
   ]
  },
  {
   "cell_type": "code",
   "execution_count": 4,
   "metadata": {
    "collapsed": false
   },
   "outputs": [
    {
     "name": "stdout",
     "output_type": "stream",
     "text": [
      "   encounter_id  patient_nbr             race  gender      age weight  \\\n",
      "0       2278392      8222157        Caucasian  Female   [0-10)      ?   \n",
      "1        149190     55629189        Caucasian  Female  [10-20)      ?   \n",
      "2         64410     86047875  AfricanAmerican  Female  [20-30)      ?   \n",
      "3        500364     82442376        Caucasian    Male  [30-40)      ?   \n",
      "4         16680     42519267        Caucasian    Male  [40-50)      ?   \n",
      "\n",
      "   admission_type_id  discharge_disposition_id  admission_source_id  \\\n",
      "0                  6                        25                    1   \n",
      "1                  1                         1                    7   \n",
      "2                  1                         1                    7   \n",
      "3                  1                         1                    7   \n",
      "4                  1                         1                    7   \n",
      "\n",
      "   time_in_hospital    ...     citoglipton insulin  glyburide-metformin  \\\n",
      "0                 1    ...              No      No                   No   \n",
      "1                 3    ...              No      Up                   No   \n",
      "2                 2    ...              No      No                   No   \n",
      "3                 2    ...              No      Up                   No   \n",
      "4                 1    ...              No  Steady                   No   \n",
      "\n",
      "   glipizide-metformin  glimepiride-pioglitazone  metformin-rosiglitazone  \\\n",
      "0                   No                        No                       No   \n",
      "1                   No                        No                       No   \n",
      "2                   No                        No                       No   \n",
      "3                   No                        No                       No   \n",
      "4                   No                        No                       No   \n",
      "\n",
      "   metformin-pioglitazone  change diabetesMed readmitted  \n",
      "0                      No      No          No         NO  \n",
      "1                      No      Ch         Yes        >30  \n",
      "2                      No      No         Yes         NO  \n",
      "3                      No      Ch         Yes         NO  \n",
      "4                      No      Ch         Yes         NO  \n",
      "\n",
      "[5 rows x 50 columns]\n"
     ]
    }
   ],
   "source": [
    "print df.head()"
   ]
  },
  {
   "cell_type": "markdown",
   "metadata": {},
   "source": [
    "##  Data Cleansing"
   ]
  },
  {
   "cell_type": "markdown",
   "metadata": {},
   "source": [
    "We can access a column is a dataframe with Pandas using df[\"readmitted\"]. This will extract a single column from the dataframe. Let’s plot a histogram of this column so we can visualize the distribution of targets. We’ll use Matplotlib to generate the visualization. Matplotlib is the main plotting infrastructure in Python, and most other plotting libraries, like seaborn and ggplot2 are built on top of Matplotlib. "
   ]
  },
  {
   "cell_type": "code",
   "execution_count": 6,
   "metadata": {
    "collapsed": false
   },
   "outputs": [
    {
     "name": "stdout",
     "output_type": "stream",
     "text": [
      "Axes(0.125,0.125;0.775x0.775)\n"
     ]
    },
    {
     "data": {
      "image/png": "[encoded data removed]",
      "text/plain": [
       "<matplotlib.figure.Figure at 0xac551dac>"
      ]
     },
     "metadata": {},
     "output_type": "display_data"
    }
   ],
   "source": [
    "target = np.unique(df[\"readmitted\"], return_inverse=True)\n",
    "print df[\"readmitted\"].value_counts().plot(kind='bar')"
   ]
  },
  {
   "cell_type": "markdown",
   "metadata": {},
   "source": [
    "Let’s clean it up the data set and drop a few columns. We remove one class to convert multiclass issue into a binary classification. "
   ]
  },
  {
   "cell_type": "code",
   "execution_count": 7,
   "metadata": {
    "collapsed": false
   },
   "outputs": [
    {
     "name": "stdout",
     "output_type": "stream",
     "text": [
      "              race  gender      age weight  admission_type_id  \\\n",
      "0        Caucasian  Female   [0-10)    NaN                  6   \n",
      "1        Caucasian  Female  [10-20)    NaN                  1   \n",
      "2  AfricanAmerican  Female  [20-30)    NaN                  1   \n",
      "3        Caucasian    Male  [30-40)    NaN                  1   \n",
      "4        Caucasian    Male  [40-50)    NaN                  1   \n",
      "\n",
      "   discharge_disposition_id  admission_source_id  time_in_hospital payer_code  \\\n",
      "0                        25                    1                 1        NaN   \n",
      "1                         1                    7                 3        NaN   \n",
      "2                         1                    7                 2        NaN   \n",
      "3                         1                    7                 2        NaN   \n",
      "4                         1                    7                 1        NaN   \n",
      "\n",
      "          medical_specialty     ...      citoglipton  insulin  \\\n",
      "0  Pediatrics-Endocrinology     ...               No       No   \n",
      "1                       NaN     ...               No       Up   \n",
      "2                       NaN     ...               No       No   \n",
      "3                       NaN     ...               No       Up   \n",
      "4                       NaN     ...               No   Steady   \n",
      "\n",
      "   glyburide-metformin  glipizide-metformin  glimepiride-pioglitazone  \\\n",
      "0                   No                   No                        No   \n",
      "1                   No                   No                        No   \n",
      "2                   No                   No                        No   \n",
      "3                   No                   No                        No   \n",
      "4                   No                   No                        No   \n",
      "\n",
      "   metformin-rosiglitazone metformin-pioglitazone change diabetesMed  \\\n",
      "0                       No                     No     No          No   \n",
      "1                       No                     No     Ch         Yes   \n",
      "2                       No                     No     No         Yes   \n",
      "3                       No                     No     Ch         Yes   \n",
      "4                       No                     No     Ch         Yes   \n",
      "\n",
      "   readmitted  \n",
      "0          NO  \n",
      "1         >30  \n",
      "2          NO  \n",
      "3          NO  \n",
      "4          NO  \n",
      "\n",
      "[5 rows x 48 columns]\n",
      "race                        object\n",
      "gender                      object\n",
      "age                         object\n",
      "weight                      object\n",
      "admission_type_id            int64\n",
      "discharge_disposition_id     int64\n",
      "admission_source_id          int64\n",
      "time_in_hospital             int64\n",
      "payer_code                  object\n",
      "medical_specialty           object\n",
      "num_lab_procedures           int64\n",
      "num_procedures               int64\n",
      "num_medications              int64\n",
      "number_outpatient            int64\n",
      "number_emergency             int64\n",
      "number_inpatient             int64\n",
      "diag_1                      object\n",
      "diag_2                      object\n",
      "diag_3                      object\n",
      "number_diagnoses             int64\n",
      "max_glu_serum               object\n",
      "A1Cresult                   object\n",
      "metformin                   object\n",
      "repaglinide                 object\n",
      "nateglinide                 object\n",
      "chlorpropamide              object\n",
      "glimepiride                 object\n",
      "acetohexamide               object\n",
      "glipizide                   object\n",
      "glyburide                   object\n",
      "tolbutamide                 object\n",
      "pioglitazone                object\n",
      "rosiglitazone               object\n",
      "acarbose                    object\n",
      "miglitol                    object\n",
      "troglitazone                object\n",
      "tolazamide                  object\n",
      "examide                     object\n",
      "citoglipton                 object\n",
      "insulin                     object\n",
      "glyburide-metformin         object\n",
      "glipizide-metformin         object\n",
      "glimepiride-pioglitazone    object\n",
      "metformin-rosiglitazone     object\n",
      "metformin-pioglitazone      object\n",
      "change                      object\n",
      "diabetesMed                 object\n",
      "readmitted                  object\n",
      "dtype: object\n"
     ]
    }
   ],
   "source": [
    "#Drop useless variables\n",
    "df = df.drop(['encounter_id','patient_nbr'], axis=1)\n",
    "\n",
    "# transform all \"?\" to NA\n",
    "df = df.replace('?', np.nan)\n",
    "\n",
    "print(df.head())\n",
    "\n",
    "#we remove row contain \">30\"\n",
    "df = df[df[\"readmitted\"]!=\">30\"]\n",
    "\n",
    "#we extract target values\n",
    "y = df['readmitted']\n",
    "print df.dtypes"
   ]
  },
  {
   "cell_type": "markdown",
   "metadata": {},
   "source": [
    "We should get information about data type to convert string in categorical variables..."
   ]
  },
  {
   "cell_type": "code",
   "execution_count": 127,
   "metadata": {
    "collapsed": false,
    "scrolled": false
   },
   "outputs": [
    {
     "data": {
      "text/plain": [
       "race                        object\n",
       "gender                      object\n",
       "age                         object\n",
       "weight                      object\n",
       "admission_type_id            int64\n",
       "discharge_disposition_id     int64\n",
       "admission_source_id          int64\n",
       "time_in_hospital             int64\n",
       "payer_code                  object\n",
       "medical_specialty           object\n",
       "dtype: object"
      ]
     },
     "execution_count": 127,
     "metadata": {},
     "output_type": "execute_result"
    }
   ],
   "source": [
    "df.dtypes[0:10]"
   ]
  },
  {
   "cell_type": "markdown",
   "metadata": {},
   "source": [
    "We would controle how categorical variables are represented. We are going to dummify some variable with type object. get_dummies creates a new DataFrame with binary indicator variables for each category/option in the column specified. Once that's done, we merge the new dummy columns into the original dataset."
   ]
  },
  {
   "cell_type": "code",
   "execution_count": 8,
   "metadata": {
    "collapsed": false
   },
   "outputs": [
    {
     "name": "stdout",
     "output_type": "stream",
     "text": [
      "medical_specialty has been dummyfied\n",
      "gender has been dummyfied\n",
      "weight has been dummyfied\n",
      "admission_type_id has been dummyfied\n",
      "discharge_disposition_id has been dummyfied\n",
      "race has been dummyfied\n",
      "age has been dummyfied\n"
     ]
    }
   ],
   "source": [
    "\n",
    "colsToDummify = [\"medical_specialty\",\"gender\",\"weight\",\"admission_type_id\",\"discharge_disposition_id\",\"race\",\"age\"]\n",
    "df_dummies = df\n",
    "for col in colsToDummify:\n",
    "    print col + ' has been dummyfied'\n",
    "    dummies = pd.get_dummies(df_dummies[col]).rename(columns=lambda x: col + '_' + str(x))\n",
    "    df_dummies.drop([col], inplace=True, axis=1)\n",
    "    df_dummies = pd.concat([df_dummies, dummies], axis=1)\n"
   ]
  },
  {
   "cell_type": "code",
   "execution_count": 9,
   "metadata": {
    "collapsed": false,
    "scrolled": true
   },
   "outputs": [
    {
     "name": "stdout",
     "output_type": "stream",
     "text": [
      "(66221, 168)\n"
     ]
    },
    {
     "data": {
      "text/html": [
       "<div>\n",
       "<table border=\"1\" class=\"dataframe\">\n",
       "  <thead>\n",
       "    <tr style=\"text-align: right;\">\n",
       "      <th></th>\n",
       "      <th>admission_source_id</th>\n",
       "      <th>time_in_hospital</th>\n",
       "      <th>payer_code</th>\n",
       "      <th>num_lab_procedures</th>\n",
       "      <th>num_procedures</th>\n",
       "      <th>num_medications</th>\n",
       "      <th>number_outpatient</th>\n",
       "      <th>number_emergency</th>\n",
       "      <th>number_inpatient</th>\n",
       "      <th>diag_1</th>\n",
       "      <th>...</th>\n",
       "      <th>age_[0-10)</th>\n",
       "      <th>age_[10-20)</th>\n",
       "      <th>age_[20-30)</th>\n",
       "      <th>age_[30-40)</th>\n",
       "      <th>age_[40-50)</th>\n",
       "      <th>age_[50-60)</th>\n",
       "      <th>age_[60-70)</th>\n",
       "      <th>age_[70-80)</th>\n",
       "      <th>age_[80-90)</th>\n",
       "      <th>age_[90-100)</th>\n",
       "    </tr>\n",
       "  </thead>\n",
       "  <tbody>\n",
       "    <tr>\n",
       "      <th>0</th>\n",
       "      <td>1</td>\n",
       "      <td>1</td>\n",
       "      <td>NaN</td>\n",
       "      <td>41</td>\n",
       "      <td>0</td>\n",
       "      <td>1</td>\n",
       "      <td>0</td>\n",
       "      <td>0</td>\n",
       "      <td>0</td>\n",
       "      <td>250.83</td>\n",
       "      <td>...</td>\n",
       "      <td>1.0</td>\n",
       "      <td>0.0</td>\n",
       "      <td>0.0</td>\n",
       "      <td>0.0</td>\n",
       "      <td>0.0</td>\n",
       "      <td>0.0</td>\n",
       "      <td>0.0</td>\n",
       "      <td>0.0</td>\n",
       "      <td>0.0</td>\n",
       "      <td>0.0</td>\n",
       "    </tr>\n",
       "    <tr>\n",
       "      <th>2</th>\n",
       "      <td>7</td>\n",
       "      <td>2</td>\n",
       "      <td>NaN</td>\n",
       "      <td>11</td>\n",
       "      <td>5</td>\n",
       "      <td>13</td>\n",
       "      <td>2</td>\n",
       "      <td>0</td>\n",
       "      <td>1</td>\n",
       "      <td>648</td>\n",
       "      <td>...</td>\n",
       "      <td>0.0</td>\n",
       "      <td>0.0</td>\n",
       "      <td>1.0</td>\n",
       "      <td>0.0</td>\n",
       "      <td>0.0</td>\n",
       "      <td>0.0</td>\n",
       "      <td>0.0</td>\n",
       "      <td>0.0</td>\n",
       "      <td>0.0</td>\n",
       "      <td>0.0</td>\n",
       "    </tr>\n",
       "    <tr>\n",
       "      <th>3</th>\n",
       "      <td>7</td>\n",
       "      <td>2</td>\n",
       "      <td>NaN</td>\n",
       "      <td>44</td>\n",
       "      <td>1</td>\n",
       "      <td>16</td>\n",
       "      <td>0</td>\n",
       "      <td>0</td>\n",
       "      <td>0</td>\n",
       "      <td>8</td>\n",
       "      <td>...</td>\n",
       "      <td>0.0</td>\n",
       "      <td>0.0</td>\n",
       "      <td>0.0</td>\n",
       "      <td>1.0</td>\n",
       "      <td>0.0</td>\n",
       "      <td>0.0</td>\n",
       "      <td>0.0</td>\n",
       "      <td>0.0</td>\n",
       "      <td>0.0</td>\n",
       "      <td>0.0</td>\n",
       "    </tr>\n",
       "    <tr>\n",
       "      <th>4</th>\n",
       "      <td>7</td>\n",
       "      <td>1</td>\n",
       "      <td>NaN</td>\n",
       "      <td>51</td>\n",
       "      <td>0</td>\n",
       "      <td>8</td>\n",
       "      <td>0</td>\n",
       "      <td>0</td>\n",
       "      <td>0</td>\n",
       "      <td>197</td>\n",
       "      <td>...</td>\n",
       "      <td>0.0</td>\n",
       "      <td>0.0</td>\n",
       "      <td>0.0</td>\n",
       "      <td>0.0</td>\n",
       "      <td>1.0</td>\n",
       "      <td>0.0</td>\n",
       "      <td>0.0</td>\n",
       "      <td>0.0</td>\n",
       "      <td>0.0</td>\n",
       "      <td>0.0</td>\n",
       "    </tr>\n",
       "    <tr>\n",
       "      <th>6</th>\n",
       "      <td>2</td>\n",
       "      <td>4</td>\n",
       "      <td>NaN</td>\n",
       "      <td>70</td>\n",
       "      <td>1</td>\n",
       "      <td>21</td>\n",
       "      <td>0</td>\n",
       "      <td>0</td>\n",
       "      <td>0</td>\n",
       "      <td>414</td>\n",
       "      <td>...</td>\n",
       "      <td>0.0</td>\n",
       "      <td>0.0</td>\n",
       "      <td>0.0</td>\n",
       "      <td>0.0</td>\n",
       "      <td>0.0</td>\n",
       "      <td>0.0</td>\n",
       "      <td>1.0</td>\n",
       "      <td>0.0</td>\n",
       "      <td>0.0</td>\n",
       "      <td>0.0</td>\n",
       "    </tr>\n",
       "  </tbody>\n",
       "</table>\n",
       "<p>5 rows × 168 columns</p>\n",
       "</div>"
      ],
      "text/plain": [
       "   admission_source_id  time_in_hospital payer_code  num_lab_procedures  \\\n",
       "0                    1                 1        NaN                  41   \n",
       "2                    7                 2        NaN                  11   \n",
       "3                    7                 2        NaN                  44   \n",
       "4                    7                 1        NaN                  51   \n",
       "6                    2                 4        NaN                  70   \n",
       "\n",
       "   num_procedures  num_medications  number_outpatient  number_emergency  \\\n",
       "0               0                1                  0                 0   \n",
       "2               5               13                  2                 0   \n",
       "3               1               16                  0                 0   \n",
       "4               0                8                  0                 0   \n",
       "6               1               21                  0                 0   \n",
       "\n",
       "   number_inpatient  diag_1     ...      age_[0-10) age_[10-20)  age_[20-30)  \\\n",
       "0                 0  250.83     ...             1.0         0.0          0.0   \n",
       "2                 1     648     ...             0.0         0.0          1.0   \n",
       "3                 0       8     ...             0.0         0.0          0.0   \n",
       "4                 0     197     ...             0.0         0.0          0.0   \n",
       "6                 0     414     ...             0.0         0.0          0.0   \n",
       "\n",
       "  age_[30-40) age_[40-50) age_[50-60) age_[60-70) age_[70-80) age_[80-90)  \\\n",
       "0         0.0         0.0         0.0         0.0         0.0         0.0   \n",
       "2         0.0         0.0         0.0         0.0         0.0         0.0   \n",
       "3         1.0         0.0         0.0         0.0         0.0         0.0   \n",
       "4         0.0         1.0         0.0         0.0         0.0         0.0   \n",
       "6         0.0         0.0         0.0         1.0         0.0         0.0   \n",
       "\n",
       "  age_[90-100)  \n",
       "0          0.0  \n",
       "2          0.0  \n",
       "3          0.0  \n",
       "4          0.0  \n",
       "6          0.0  \n",
       "\n",
       "[5 rows x 168 columns]"
      ]
     },
     "execution_count": 9,
     "metadata": {},
     "output_type": "execute_result"
    }
   ],
   "source": [
    "print(df_dummies.shape)\n",
    "df_dummies.head()\n"
   ]
  },
  {
   "cell_type": "markdown",
   "metadata": {},
   "source": [
    "## Data Exploration"
   ]
  },
  {
   "cell_type": "markdown",
   "metadata": {},
   "source": [
    "In  the one hand, we analyze numerical features. We compute some descriptive statistics to get more information about distribution, value ranges, extrema values..."
   ]
  },
  {
   "cell_type": "code",
   "execution_count": 11,
   "metadata": {
    "collapsed": false,
    "scrolled": true
   },
   "outputs": [
    {
     "data": {
      "text/html": [
       "<div>\n",
       "<table border=\"1\" class=\"dataframe\">\n",
       "  <thead>\n",
       "    <tr style=\"text-align: right;\">\n",
       "      <th></th>\n",
       "      <th>admission_type_id</th>\n",
       "      <th>discharge_disposition_id</th>\n",
       "      <th>admission_source_id</th>\n",
       "      <th>time_in_hospital</th>\n",
       "      <th>num_lab_procedures</th>\n",
       "      <th>num_procedures</th>\n",
       "      <th>num_medications</th>\n",
       "      <th>number_outpatient</th>\n",
       "      <th>number_emergency</th>\n",
       "      <th>number_inpatient</th>\n",
       "      <th>number_diagnoses</th>\n",
       "    </tr>\n",
       "  </thead>\n",
       "  <tbody>\n",
       "    <tr>\n",
       "      <th>count</th>\n",
       "      <td>66221.000000</td>\n",
       "      <td>66221.000000</td>\n",
       "      <td>66221.000000</td>\n",
       "      <td>66221.000000</td>\n",
       "      <td>66221.000000</td>\n",
       "      <td>66221.000000</td>\n",
       "      <td>66221.000000</td>\n",
       "      <td>66221.000000</td>\n",
       "      <td>66221.000000</td>\n",
       "      <td>66221.000000</td>\n",
       "      <td>66221.000000</td>\n",
       "    </tr>\n",
       "    <tr>\n",
       "      <th>mean</th>\n",
       "      <td>2.021307</td>\n",
       "      <td>3.904894</td>\n",
       "      <td>5.641398</td>\n",
       "      <td>4.342550</td>\n",
       "      <td>42.697921</td>\n",
       "      <td>1.388110</td>\n",
       "      <td>15.881790</td>\n",
       "      <td>0.301204</td>\n",
       "      <td>0.151765</td>\n",
       "      <td>0.526374</td>\n",
       "      <td>7.302215</td>\n",
       "    </tr>\n",
       "    <tr>\n",
       "      <th>std</th>\n",
       "      <td>1.419133</td>\n",
       "      <td>5.492587</td>\n",
       "      <td>4.062932</td>\n",
       "      <td>2.982172</td>\n",
       "      <td>19.720143</td>\n",
       "      <td>1.723031</td>\n",
       "      <td>8.384629</td>\n",
       "      <td>1.083986</td>\n",
       "      <td>0.746954</td>\n",
       "      <td>1.172518</td>\n",
       "      <td>1.985369</td>\n",
       "    </tr>\n",
       "    <tr>\n",
       "      <th>min</th>\n",
       "      <td>1.000000</td>\n",
       "      <td>1.000000</td>\n",
       "      <td>1.000000</td>\n",
       "      <td>1.000000</td>\n",
       "      <td>1.000000</td>\n",
       "      <td>0.000000</td>\n",
       "      <td>1.000000</td>\n",
       "      <td>0.000000</td>\n",
       "      <td>0.000000</td>\n",
       "      <td>0.000000</td>\n",
       "      <td>1.000000</td>\n",
       "    </tr>\n",
       "    <tr>\n",
       "      <th>25%</th>\n",
       "      <td>1.000000</td>\n",
       "      <td>1.000000</td>\n",
       "      <td>1.000000</td>\n",
       "      <td>2.000000</td>\n",
       "      <td>31.000000</td>\n",
       "      <td>0.000000</td>\n",
       "      <td>10.000000</td>\n",
       "      <td>0.000000</td>\n",
       "      <td>0.000000</td>\n",
       "      <td>0.000000</td>\n",
       "      <td>6.000000</td>\n",
       "    </tr>\n",
       "    <tr>\n",
       "      <th>50%</th>\n",
       "      <td>1.000000</td>\n",
       "      <td>1.000000</td>\n",
       "      <td>7.000000</td>\n",
       "      <td>4.000000</td>\n",
       "      <td>44.000000</td>\n",
       "      <td>1.000000</td>\n",
       "      <td>14.000000</td>\n",
       "      <td>0.000000</td>\n",
       "      <td>0.000000</td>\n",
       "      <td>0.000000</td>\n",
       "      <td>8.000000</td>\n",
       "    </tr>\n",
       "    <tr>\n",
       "      <th>75%</th>\n",
       "      <td>3.000000</td>\n",
       "      <td>4.000000</td>\n",
       "      <td>7.000000</td>\n",
       "      <td>6.000000</td>\n",
       "      <td>56.000000</td>\n",
       "      <td>2.000000</td>\n",
       "      <td>20.000000</td>\n",
       "      <td>0.000000</td>\n",
       "      <td>0.000000</td>\n",
       "      <td>1.000000</td>\n",
       "      <td>9.000000</td>\n",
       "    </tr>\n",
       "    <tr>\n",
       "      <th>max</th>\n",
       "      <td>8.000000</td>\n",
       "      <td>28.000000</td>\n",
       "      <td>25.000000</td>\n",
       "      <td>14.000000</td>\n",
       "      <td>132.000000</td>\n",
       "      <td>6.000000</td>\n",
       "      <td>81.000000</td>\n",
       "      <td>40.000000</td>\n",
       "      <td>64.000000</td>\n",
       "      <td>21.000000</td>\n",
       "      <td>16.000000</td>\n",
       "    </tr>\n",
       "  </tbody>\n",
       "</table>\n",
       "</div>"
      ],
      "text/plain": [
       "       admission_type_id  discharge_disposition_id  admission_source_id  \\\n",
       "count       66221.000000              66221.000000         66221.000000   \n",
       "mean            2.021307                  3.904894             5.641398   \n",
       "std             1.419133                  5.492587             4.062932   \n",
       "min             1.000000                  1.000000             1.000000   \n",
       "25%             1.000000                  1.000000             1.000000   \n",
       "50%             1.000000                  1.000000             7.000000   \n",
       "75%             3.000000                  4.000000             7.000000   \n",
       "max             8.000000                 28.000000            25.000000   \n",
       "\n",
       "       time_in_hospital  num_lab_procedures  num_procedures  num_medications  \\\n",
       "count      66221.000000        66221.000000    66221.000000     66221.000000   \n",
       "mean           4.342550           42.697921        1.388110        15.881790   \n",
       "std            2.982172           19.720143        1.723031         8.384629   \n",
       "min            1.000000            1.000000        0.000000         1.000000   \n",
       "25%            2.000000           31.000000        0.000000        10.000000   \n",
       "50%            4.000000           44.000000        1.000000        14.000000   \n",
       "75%            6.000000           56.000000        2.000000        20.000000   \n",
       "max           14.000000          132.000000        6.000000        81.000000   \n",
       "\n",
       "       number_outpatient  number_emergency  number_inpatient  number_diagnoses  \n",
       "count       66221.000000      66221.000000      66221.000000      66221.000000  \n",
       "mean            0.301204          0.151765          0.526374          7.302215  \n",
       "std             1.083986          0.746954          1.172518          1.985369  \n",
       "min             0.000000          0.000000          0.000000          1.000000  \n",
       "25%             0.000000          0.000000          0.000000          6.000000  \n",
       "50%             0.000000          0.000000          0.000000          8.000000  \n",
       "75%             0.000000          0.000000          1.000000          9.000000  \n",
       "max            40.000000         64.000000         21.000000         16.000000  "
      ]
     },
     "execution_count": 11,
     "metadata": {},
     "output_type": "execute_result"
    }
   ],
   "source": [
    "df.describe()"
   ]
  },
  {
   "cell_type": "markdown",
   "metadata": {},
   "source": [
    "Correlation Analysis on numerical variables:"
   ]
  },
  {
   "cell_type": "code",
   "execution_count": 131,
   "metadata": {
    "collapsed": false
   },
   "outputs": [
    {
     "data": {
      "image/png": "[encoded data removed]",
      "text/plain": [
       "<matplotlib.figure.Figure at 0xac45640c>"
      ]
     },
     "metadata": {},
     "output_type": "display_data"
    }
   ],
   "source": [
    "cols = [col for col in df.columns if col not in ['encounter_id']]\n",
    "msk = (df.dtypes == 'int64')\n",
    "plt.figure()\n",
    "_ = seaborn.corrplot(df.loc[:,msk], annot=False)"
   ]
  },
  {
   "cell_type": "markdown",
   "metadata": {},
   "source": [
    "In  the one hand, on discrete features, we plot histogram."
   ]
  },
  {
   "cell_type": "code",
   "execution_count": 189,
   "metadata": {
    "collapsed": false
   },
   "outputs": [],
   "source": [
    "i=0\n",
    "msk = (df.dtypes == object)\n",
    "for (i,m) in enumerate(msk):\n",
    "    if m and i<10:\n",
    "        i+=1\n",
    "        plt.figure()\n",
    "        df.iloc[:, i].value_counts().plot(kind='bar')"
   ]
  },
  {
   "cell_type": "markdown",
   "metadata": {},
   "source": [
    "Count Missing Value in the dataset:"
   ]
  },
  {
   "cell_type": "code",
   "execution_count": 133,
   "metadata": {
    "collapsed": false
   },
   "outputs": [
    {
     "name": "stdout",
     "output_type": "stream",
     "text": [
      "race                         97.379985\n",
      "gender                      100.000000\n",
      "age                         100.000000\n",
      "weight                        2.547530\n",
      "admission_type_id           100.000000\n",
      "discharge_disposition_id    100.000000\n",
      "admission_source_id         100.000000\n",
      "time_in_hospital            100.000000\n",
      "payer_code                   60.091210\n",
      "num_lab_procedures          100.000000\n",
      "num_procedures              100.000000\n",
      "num_medications             100.000000\n",
      "number_outpatient           100.000000\n",
      "number_emergency            100.000000\n",
      "number_inpatient            100.000000\n",
      "diag_1                       99.974328\n",
      "diag_2                       99.571133\n",
      "diag_3                       98.361547\n",
      "number_diagnoses            100.000000\n",
      "max_glu_serum               100.000000\n",
      "A1Cresult                   100.000000\n",
      "metformin                   100.000000\n",
      "repaglinide                 100.000000\n",
      "nateglinide                 100.000000\n",
      "chlorpropamide              100.000000\n",
      "glimepiride                 100.000000\n",
      "acetohexamide               100.000000\n",
      "glipizide                   100.000000\n",
      "glyburide                   100.000000\n",
      "tolbutamide                 100.000000\n",
      "pioglitazone                100.000000\n",
      "rosiglitazone               100.000000\n",
      "acarbose                    100.000000\n",
      "miglitol                    100.000000\n",
      "troglitazone                100.000000\n",
      "tolazamide                  100.000000\n",
      "examide                     100.000000\n",
      "citoglipton                 100.000000\n",
      "insulin                     100.000000\n",
      "glyburide-metformin         100.000000\n",
      "glipizide-metformin         100.000000\n",
      "glimepiride-pioglitazone    100.000000\n",
      "metformin-rosiglitazone     100.000000\n",
      "metformin-pioglitazone      100.000000\n",
      "change                      100.000000\n",
      "diabetesMed                 100.000000\n",
      "readmitted                  100.000000\n",
      "dtype: float64\n"
     ]
    }
   ],
   "source": [
    "print (df.count() / len(df))*100"
   ]
  },
  {
   "cell_type": "markdown",
   "metadata": {},
   "source": [
    "## Feature Engineering:"
   ]
  },
  {
   "cell_type": "markdown",
   "metadata": {},
   "source": [
    "Here, we could compute some feature to extract more information from data. We can compute brute force features such as interaction, quadratic interaction, pca components... We can also compute feature with a business motivation."
   ]
  },
  {
   "cell_type": "markdown",
   "metadata": {},
   "source": [
    "## T-SNE"
   ]
  },
  {
   "cell_type": "markdown",
   "metadata": {},
   "source": [
    "We use a technique called \"t-SNE\" that visualizes high-dimensional data by giving each\n",
    "datapoint a location in a two map. It is a non linear dimension reduction method."
   ]
  },
  {
   "cell_type": "code",
   "execution_count": 13,
   "metadata": {
    "collapsed": true
   },
   "outputs": [],
   "source": [
    "from sklearn.manifold import TSNE"
   ]
  },
  {
   "cell_type": "code",
   "execution_count": 14,
   "metadata": {
    "collapsed": false
   },
   "outputs": [],
   "source": [
    "n = 2000\n",
    "msk = (df.dtypes == 'int64')\n",
    "X = np.array(df.loc[:,msk])\n",
    "X = X[1:n,:]\n",
    "model = TSNE(n_components=2, random_state=0)\n",
    "np.set_printoptions(suppress=True)\n",
    "tsne= model.fit_transform(X) "
   ]
  },
  {
   "cell_type": "code",
   "execution_count": 15,
   "metadata": {
    "collapsed": false,
    "scrolled": false
   },
   "outputs": [
    {
     "data": {
      "image/png": "[encoded data removed]",
      "text/plain": [
       "<matplotlib.figure.Figure at 0xaaac9dac>"
      ]
     },
     "metadata": {},
     "output_type": "display_data"
    }
   ],
   "source": [
    "## -- plot t-sne\n",
    "from matplotlib import pyplot as plt\n",
    "# plot the result\n",
    "vis_x = tsne[:, 0]\n",
    "vis_y = tsne[:, 1]\n",
    "plt.scatter(vis_x, vis_y)\n",
    "plt.show()"
   ]
  },
  {
   "cell_type": "markdown",
   "metadata": {},
   "source": [
    "## K-means"
   ]
  },
  {
   "cell_type": "markdown",
   "metadata": {},
   "source": [
    "We’ll use a particular type of clustering called k-means clustering. Scikit-learn has an excellent implementation of k-means clustering that we can us. In order to use the clustering algorithm in Scikit-learn, we’ll first intialize it using two parameters – n_clusters defines how many clusters of games that we want, and random_state is a random seed we set in order to reproduce our results later"
   ]
  },
  {
   "cell_type": "code",
   "execution_count": 137,
   "metadata": {
    "collapsed": false
   },
   "outputs": [],
   "source": [
    "# Firstly, we convert all non numeric value into numeric\n",
    "msk = (df.dtypes == object)\n",
    "for (i,m) in enumerate(msk):\n",
    "    if m:\n",
    "        df.iloc[:, i] = np.unique(df.iloc[:, i], return_inverse=True)[1]\n",
    "        "
   ]
  },
  {
   "cell_type": "code",
   "execution_count": 138,
   "metadata": {
    "collapsed": false
   },
   "outputs": [],
   "source": [
    "# Import the kmeans clustering model.\n",
    "from sklearn.cluster import KMeans\n",
    "\n",
    "# Initialize the model with 2 parameters -- number of clusters and random state.\n",
    "kmeans_model = KMeans(n_clusters=3, random_state=1)\n",
    "# Get only the numeric columns from df.\n",
    "good_columns = df._get_numeric_data()\n",
    "# Fit the model using the good columns.\n",
    "kmeans_model.fit(good_columns)\n",
    "# Get the cluster assignments.\n",
    "labels = kmeans_model.labels_"
   ]
  },
  {
   "cell_type": "markdown",
   "metadata": {},
   "source": [
    "## Plotting clusters with a PCA"
   ]
  },
  {
   "cell_type": "markdown",
   "metadata": {},
   "source": [
    "Now that we have cluster labels, let’s plot the clusters. One sticking point is that our data has many columns So we’ll have to reduce the dimensionality of our data, without losing too much information. Dimensionality reduction techniques like PCA are widely used when preprocessing data for machine learning algorithms.\n",
    "\n",
    "We’ll try to turn our  data into two dimensions, or columns, so we can easily plot it out."
   ]
  },
  {
   "cell_type": "code",
   "execution_count": 139,
   "metadata": {
    "collapsed": false,
    "scrolled": true
   },
   "outputs": [
    {
     "data": {
      "image/png": "[encoded data removed]",
      "text/plain": [
       "<matplotlib.figure.Figure at 0xa9d4fe2c>"
      ]
     },
     "metadata": {},
     "output_type": "display_data"
    }
   ],
   "source": [
    "# Import the PCA model.\n",
    "from sklearn.decomposition import PCA\n",
    "\n",
    "# Create a PCA model.\n",
    "pca_2 = PCA(2)\n",
    "# Fit the PCA model on the numeric columns from earlier.\n",
    "plot_columns = pca_2.fit_transform(good_columns)\n",
    "# Make a scatter plot of each game, shaded according to cluster assignment.\n",
    "plt.scatter(x=plot_columns[:,0], y=plot_columns[:,1], c=labels)\n",
    "# Show the plot.\n",
    "plt.show()"
   ]
  },
  {
   "cell_type": "markdown",
   "metadata": {},
   "source": [
    "# Figuring out what to predict"
   ]
  },
  {
   "cell_type": "markdown",
   "metadata": {
    "collapsed": true
   },
   "source": [
    "There are two things we need to determine before we jump into machine learning – how we’re going to measure error, and what we’re going to predict."
   ]
  },
  {
   "cell_type": "markdown",
   "metadata": {
    "collapsed": true
   },
   "source": [
    "Concerning the error metric, we face a binary classification. There are a large variety of error metrics, but we can choose the most common for binary classification : AUC (\"Area Under Curve\")"
   ]
  },
  {
   "cell_type": "code",
   "execution_count": 140,
   "metadata": {
    "collapsed": false
   },
   "outputs": [
    {
     "data": {
      "text/html": [
       "\n",
       "        <iframe\n",
       "            width=\"1000\"\n",
       "            height=\"350\"\n",
       "            src=\"http://scikit-learn.org/stable/modules/model_evaluation.html#classification-metrics\"\n",
       "            frameborder=\"0\"\n",
       "            allowfullscreen\n",
       "        ></iframe>\n",
       "        "
      ],
      "text/plain": [
       "<IPython.lib.display.IFrame at 0xa9edc16c>"
      ]
     },
     "execution_count": 140,
     "metadata": {},
     "output_type": "execute_result"
    }
   ],
   "source": [
    "from IPython.display import IFrame\n",
    "IFrame('http://scikit-learn.org/stable/modules/model_evaluation.html#classification-metrics', width=1000, height=350)"
   ]
  },
  {
   "cell_type": "markdown",
   "metadata": {},
   "source": [
    "## Splitting into train and test sets\n"
   ]
  },
  {
   "cell_type": "markdown",
   "metadata": {},
   "source": [
    "In order to prevent overfitting, we’ll train our algorithm on a set consisting of 80% of the data, and test it on another set consisting of 20% of the data. To do this, we first randomly samply 80% of the rows to be in the training set, then put everything else in the testing set."
   ]
  },
  {
   "cell_type": "code",
   "execution_count": 141,
   "metadata": {
    "collapsed": false
   },
   "outputs": [
    {
     "name": "stdout",
     "output_type": "stream",
     "text": [
      "(52977, 47)\n",
      "(13244, 47)\n"
     ]
    }
   ],
   "source": [
    "# Import a convenience function to split the sets.\n",
    "from sklearn.cross_validation import train_test_split\n",
    "\n",
    "#Set random_state to be able to replicate results.\n",
    "import random\n",
    "random.seed(9001)\n",
    "\n",
    "# Generate the training set.  \n",
    "train = df.sample(frac=0.8, random_state=1)\n",
    "train_dummies = df_dummies.sample(frac=0.8, random_state=1)\n",
    "\n",
    "\n",
    "# Select anything not in the training set and put it in the testing set.\n",
    "test = df.loc[~df.index.isin(train.index)]\n",
    "test_dummies = df_dummies.loc[~df.index.isin(train.index)]\n",
    "\n",
    "\n",
    "# Print the shapes of both sets.\n",
    "print(train.shape)\n",
    "print(test.shape)\n",
    "\n",
    "\n",
    "#we define columns for features and target\n",
    "columns = df.columns[:-1]\n",
    "target = 'readmitted'\n"
   ]
  },
  {
   "cell_type": "markdown",
   "metadata": {},
   "source": [
    "Above, we exploit the fact that every Pandas row has a unique index to select any row not in the training set to be in the testing set."
   ]
  },
  {
   "cell_type": "markdown",
   "metadata": {},
   "source": [
    "## Fitting a linear regression"
   ]
  },
  {
   "cell_type": "markdown",
   "metadata": {},
   "source": [
    "Linear regression is a powerful and commonly used machine learning algorithm. It predicts the target variable using linear combinations of the predictor variables. "
   ]
  },
  {
   "cell_type": "markdown",
   "metadata": {},
   "source": [
    "Linear regression is a commonly used machine learning method. It predicts the target variable using linear combinations of the predictor variables. Let’s say we have a 2 values, 3, and 4. A linear combination would be 3 * .5 + 4 * .5. A linear combination involves multiplying each number by a constant, and adding the results."
   ]
  },
  {
   "cell_type": "code",
   "execution_count": 152,
   "metadata": {
    "collapsed": false
   },
   "outputs": [
    {
     "data": {
      "text/plain": [
       "LinearRegression(copy_X=True, fit_intercept=True, n_jobs=1, normalize=False)"
      ]
     },
     "execution_count": 152,
     "metadata": {},
     "output_type": "execute_result"
    }
   ],
   "source": [
    "# Import the linear regression model.\n",
    "from sklearn.linear_model import LinearRegression\n",
    "\n",
    "# Initialize the model class.\n",
    "model = LinearRegression()\n",
    "\n",
    "# Fit the model to the training daata.\n",
    "model.fit(train[columns], train[target])\n"
   ]
  },
  {
   "cell_type": "markdown",
   "metadata": {},
   "source": [
    "#### Compute predictor error"
   ]
  },
  {
   "cell_type": "code",
   "execution_count": 153,
   "metadata": {
    "collapsed": false
   },
   "outputs": [
    {
     "name": "stdout",
     "output_type": "stream",
     "text": [
      "0.688861164426\n"
     ]
    }
   ],
   "source": [
    "# Import the scikit-learn function to compute error.\n",
    "from sklearn.metrics import roc_auc_score\n",
    "\n",
    "# Generate our predictions for the test set.\n",
    "predictions = model.predict(test[columns])\n",
    "\n",
    "# Compute error between our test predictions and the actual values.\n",
    "print roc_auc_score(test['readmitted'],predictions)\n"
   ]
  },
  {
   "cell_type": "markdown",
   "metadata": {},
   "source": [
    "## Interpreting the results"
   ]
  },
  {
   "cell_type": "code",
   "execution_count": 177,
   "metadata": {
    "collapsed": false
   },
   "outputs": [
    {
     "data": {
      "text/plain": [
       "array([-0.08027939, -0.07760214, -0.03941559, -0.02522421, -0.02237287,\n",
       "       -0.01079942, -0.00724514, -0.00693759, -0.00655587, -0.00358147,\n",
       "       -0.00352064, -0.00337855, -0.00309502, -0.00216484, -0.00086541,\n",
       "       -0.00073029, -0.00014112, -0.00005383, -0.00000351, -0.        ,\n",
       "       -0.        , -0.        ,  0.        ,  0.00001877,  0.00002855,\n",
       "        0.00018929,  0.00102895,  0.00107599,  0.00112575,  0.00233188,\n",
       "        0.00617352,  0.00623536,  0.0067997 ,  0.00764652,  0.00791633,\n",
       "        0.00961947,  0.01231337,  0.01518206,  0.02523865,  0.0763926 ,\n",
       "        0.08954018,  0.0955571 ,  0.11519391,  0.14607968,  0.15374307,\n",
       "        0.17386938])"
      ]
     },
     "execution_count": 177,
     "metadata": {},
     "output_type": "execute_result"
    }
   ],
   "source": [
    "# Get coefficient for linear regression\n",
    "model.coef_"
   ]
  },
  {
   "cell_type": "code",
   "execution_count": 178,
   "metadata": {
    "collapsed": false
   },
   "outputs": [
    {
     "name": "stdout",
     "output_type": "stream",
     "text": [
      "Axes(0.125,0.125;0.775x0.775)\n"
     ]
    },
    {
     "data": {
      "image/png": "[encoded data removed]",
      "text/plain": [
       "<matplotlib.figure.Figure at 0xab0be04c>"
      ]
     },
     "metadata": {},
     "output_type": "display_data"
    }
   ],
   "source": [
    "# Plot coefficient for linear regression\n",
    "print pd.DataFrame(index=columns,data=model.coef_).plot(kind='bar')\n"
   ]
  },
  {
   "cell_type": "markdown",
   "metadata": {
    "collapsed": true
   },
   "source": [
    "## Fitting a logistic Regression"
   ]
  },
  {
   "cell_type": "code",
   "execution_count": 180,
   "metadata": {
    "collapsed": false
   },
   "outputs": [
    {
     "name": "stdout",
     "output_type": "stream",
     "text": [
      "[LibLinear]"
     ]
    },
    {
     "data": {
      "text/plain": [
       "LogisticRegression(C=1.0, class_weight=None, dual=False, fit_intercept=True,\n",
       "          intercept_scaling=1, max_iter=100, multi_class='ovr',\n",
       "          penalty='l1', random_state=None, solver='liblinear', tol=0.0001,\n",
       "          verbose=1)"
      ]
     },
     "execution_count": 180,
     "metadata": {},
     "output_type": "execute_result"
    }
   ],
   "source": [
    "# Import the logistic model.\n",
    "from sklearn.linear_model import LogisticRegression\n",
    "\n",
    "# Initialize the model class.\n",
    "model = LogisticRegression(solver='liblinear',penalty='l1',verbose=1)\n",
    "\n",
    "# Fit the model to the training daata.\n",
    "model.fit(train[columns], train[target])"
   ]
  },
  {
   "cell_type": "code",
   "execution_count": 181,
   "metadata": {
    "collapsed": false
   },
   "outputs": [
    {
     "data": {
      "text/plain": [
       "0.54160908877647074"
      ]
     },
     "execution_count": 181,
     "metadata": {},
     "output_type": "execute_result"
    }
   ],
   "source": [
    "# Generate our predictions for the test set.\n",
    "predictions = model.predict(test[columns])\n",
    "\n",
    "# Compute error between our test predictions and the actual values.\n",
    "roc_auc_score(test['readmitted'],predictions)"
   ]
  },
  {
   "cell_type": "markdown",
   "metadata": {
    "collapsed": true
   },
   "source": [
    "## Fitting a  Random Forest"
   ]
  },
  {
   "cell_type": "code",
   "execution_count": 182,
   "metadata": {
    "collapsed": false
   },
   "outputs": [
    {
     "name": "stderr",
     "output_type": "stream",
     "text": [
      "[Parallel(n_jobs=1)]: Done   1 jobs       | elapsed:    0.5s\n",
      "[Parallel(n_jobs=1)]: Done  50 jobs       | elapsed:   22.8s\n",
      "[Parallel(n_jobs=1)]: Done 100 out of 100 | elapsed:   47.7s finished\n",
      "[Parallel(n_jobs=1)]: Done   1 jobs       | elapsed:    0.0s\n",
      "[Parallel(n_jobs=1)]: Done  50 jobs       | elapsed:    0.1s\n",
      "[Parallel(n_jobs=1)]: Done 100 out of 100 | elapsed:    0.3s finished\n"
     ]
    }
   ],
   "source": [
    "# Import the random forest model.\n",
    "from sklearn.ensemble import RandomForestRegressor\n",
    "\n",
    "# Initialize the model with some parameters.\n",
    "model = RandomForestRegressor(n_estimators=100, min_samples_leaf=10, random_state=1,verbose=1)\n",
    "# Fit the model to the data.\n",
    "model.fit(train[columns], train[target])\n",
    "# Make predictions.\n",
    "predictions = model.predict(test[columns])"
   ]
  },
  {
   "cell_type": "code",
   "execution_count": 183,
   "metadata": {
    "collapsed": false
   },
   "outputs": [
    {
     "data": {
      "text/plain": [
       "0.72334097248813622"
      ]
     },
     "execution_count": 183,
     "metadata": {},
     "output_type": "execute_result"
    }
   ],
   "source": [
    "# Compute error between our test predictions and the actual values.\n",
    "roc_auc_score(test['readmitted'],predictions)"
   ]
  },
  {
   "cell_type": "markdown",
   "metadata": {},
   "source": [
    "## Fitting a Gradient Tree Boosting"
   ]
  },
  {
   "cell_type": "markdown",
   "metadata": {},
   "source": [
    "Gradient Tree Boosting or Gradient Boosted Regression Trees (GBRT) is a generalization of boosting to arbitrary differentiable loss functions"
   ]
  },
  {
   "cell_type": "code",
   "execution_count": 185,
   "metadata": {
    "collapsed": false
   },
   "outputs": [
    {
     "name": "stdout",
     "output_type": "stream",
     "text": [
      "      Iter       Train Loss   Remaining Time \n",
      "         1           0.8778            2.63m\n",
      "         2           0.8713            1.69m\n",
      "         3           0.8662            1.39m\n",
      "         4           0.8617            1.20m\n",
      "         5           0.8585            1.08m\n",
      "         6           0.8539           59.78s\n",
      "         7           0.8511           56.31s\n",
      "         8           0.8489           55.54s\n",
      "         9           0.8447           53.72s\n",
      "        10           0.8428           52.11s\n",
      "        20           0.8300           44.49s\n",
      "        30           0.8236           41.75s\n",
      "        40           0.8200           39.91s\n",
      "        50           0.8160           38.68s\n",
      "        60           0.8139           37.70s\n",
      "        70           0.8124           36.88s\n",
      "        80           0.8111           36.15s\n",
      "        90           0.8098           35.52s\n",
      "       100           0.8087           34.94s\n",
      "       200           0.8027           30.12s\n",
      "       300           0.7999           26.03s\n",
      "       400           0.7978           22.25s\n",
      "       500           0.7964           19.92s\n",
      "       600           0.7952           16.36s\n",
      "       700           0.7943           12.29s\n",
      "       800           0.7935            8.10s\n",
      "       900           0.7928            4.01s\n",
      "      1000           0.7922            0.00s\n"
     ]
    }
   ],
   "source": [
    "from sklearn.ensemble import GradientBoostingClassifier\n",
    "\n",
    "# Initialize the model with some parameters.\n",
    "model = GradientBoostingClassifier(n_estimators=1000,loss='deviance',learning_rate=1.0,max_depth=1, random_state=0,verbose=1)\n",
    "# Fit the model to the data.\n",
    "model.fit(train[columns], train[target])\n",
    "# Make predictions.\n",
    "predictions = model.predict(test[columns])"
   ]
  },
  {
   "cell_type": "code",
   "execution_count": 186,
   "metadata": {
    "collapsed": false
   },
   "outputs": [
    {
     "data": {
      "text/plain": [
       "0.55813837690731827"
      ]
     },
     "execution_count": 186,
     "metadata": {},
     "output_type": "execute_result"
    }
   ],
   "source": [
    "# Compute error between our test predictions and the actual values.\n",
    "roc_auc_score(test['readmitted'],predictions)"
   ]
  },
  {
   "cell_type": "markdown",
   "metadata": {},
   "source": [
    "##  Further exploration"
   ]
  },
  {
   "cell_type": "markdown",
   "metadata": {},
   "source": [
    "Here are some ideas for further exploration:\n",
    "    - Try a support vector machine.\n",
    "    - Generate features "
   ]
  },
  {
   "cell_type": "markdown",
   "metadata": {},
   "source": [
    "# References"
   ]
  },
  {
   "cell_type": "markdown",
   "metadata": {
    "collapsed": true
   },
   "source": [
    "-http://pandas.pydata.org/ # Documentation Library Pandas\n",
    "\n",
    "-http:// numpy.pydata.org/ # Documentation Library Numpy\n",
    "\n",
    "-http://scikit-learn.org/ # Documentation Library Scikit-learn\n",
    "\n",
    "-https://ducquangworks.wordpress.com/2015/04/04/hospital-readmissions-analysis/\n",
    "\n",
    "-https://www.dataquest.io/blog/getting-started-with-machine-learning-python/"
   ]
  }
 ],
 "metadata": {
  "kernelspec": {
   "display_name": "Python 2",
   "language": "python",
   "name": "python2"
  },
  "language_info": {
   "codemirror_mode": {
    "name": "ipython",
    "version": 2
   },
   "file_extension": ".py",
   "mimetype": "text/x-python",
   "name": "python",
   "nbconvert_exporter": "python",
   "pygments_lexer": "ipython2",
   "version": "2.7.9"
  }
 },
 "nbformat": 4,
 "nbformat_minor": 0
}
