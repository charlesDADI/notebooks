{
 "cells": [
  {
   "cell_type": "markdown",
   "metadata": {},
   "source": [
    "# Analysis of Hospital Readmission Rates"
   ]
  },
  {
   "cell_type": "markdown",
   "metadata": {},
   "source": [
    "Following the previous notebook describing the statistical analysis on Python, we will reproduce this study on Spark.\n",
    "Spark (PySpark) is the current hot datascience framework. It make easy working with very large dataset. "
   ]
  },
  {
   "cell_type": "markdown",
   "metadata": {},
   "source": [
    "We should define the SPARK HOME PATH toward our local Spark built version. "
   ]
  },
  {
   "cell_type": "code",
   "execution_count": 1,
   "metadata": {
    "collapsed": true
   },
   "outputs": [],
   "source": [
    "import os,sys\n",
    "os.environ[\"SPARK_HOME\"] = \"/usr/lib/spark-1.6.1-bin-hadoop2.6\""
   ]
  },
  {
   "cell_type": "markdown",
   "metadata": {},
   "source": [
    "Every spark script should be started by defining a spark context. The context defines an application and should be configured with a a SparkConf. "
   ]
  },
  {
   "cell_type": "markdown",
   "metadata": {},
   "source": [
    "This notebook is focusing on pySpark DataFrame and Machine learning (MLlib). Before dealing with DataFrame we have to load an useful library spark-csv from Databricks in order for parsing and querying CSV.\n",
    "Please, download library and uncompressin your spark root folder. https://github.com/databricks/spark-csv"
   ]
  },
  {
   "cell_type": "markdown",
   "metadata": {},
   "source": [
    "Add to your notebook environnement the path to spark-csv."
   ]
  },
  {
   "cell_type": "code",
   "execution_count": 2,
   "metadata": {
    "collapsed": true
   },
   "outputs": [],
   "source": [
    "os.environ['PYSPARK_SUBMIT_ARGS'] = '--packages com.databricks:spark-csv_2.10:1.3.0 pyspark-shell'"
   ]
  },
  {
   "cell_type": "markdown",
   "metadata": {},
   "source": [
    "You can set configuration properties by passing a SparkConf object to SparkContext:"
   ]
  },
  {
   "cell_type": "code",
   "execution_count": 3,
   "metadata": {
    "collapsed": false,
    "scrolled": true
   },
   "outputs": [
    {
     "data": {
      "text/html": [
       "\n",
       "        <iframe\n",
       "            width=\"1000\"\n",
       "            height=\"350\"\n",
       "            src=\"https://spark.apache.org/docs/0.9.1/python-programming-guide.html\"\n",
       "            frameborder=\"0\"\n",
       "            allowfullscreen\n",
       "        ></iframe>\n",
       "        "
      ],
      "text/plain": [
       "<IPython.lib.display.IFrame at 0xb30e2a2c>"
      ]
     },
     "execution_count": 3,
     "metadata": {},
     "output_type": "execute_result"
    }
   ],
   "source": [
    "from IPython.display import IFrame\n",
    "IFrame('https://spark.apache.org/docs/0.9.1/python-programming-guide.html', width=1000, height=350)"
   ]
  },
  {
   "cell_type": "markdown",
   "metadata": {},
   "source": [
    "The Spark Context is the object through which we bridge our programs with the computing cluster that Spark provides. It's available in our environment as the variable sc."
   ]
  },
  {
   "cell_type": "code",
   "execution_count": 4,
   "metadata": {
    "collapsed": false
   },
   "outputs": [],
   "source": [
    "import pyspark\n",
    "from pyspark import SparkConf, SparkContext\n",
    "conf = (SparkConf()\n",
    "         .setMaster(\"local\")\n",
    "         .setAppName(\"HopitalReadmission\")\n",
    "         .set(\"spark.executor.memory\", \"1g\"))\n",
    "sc = SparkContext(conf = conf)"
   ]
  },
  {
   "cell_type": "markdown",
   "metadata": {},
   "source": [
    "First, we create a new RDD and load dataset"
   ]
  },
  {
   "cell_type": "code",
   "execution_count": 5,
   "metadata": {
    "collapsed": false
   },
   "outputs": [
    {
     "name": "stdout",
     "output_type": "stream",
     "text": [
      "101767\n"
     ]
    }
   ],
   "source": [
    "import os\n",
    "fileName = \"/home/charles-abner/Documents/dataset_diabetes/diabetic_data.csv\"\n",
    "rawData = sc.textFile(fileName)\n",
    "header = rawData.first() #extract header\n",
    "print rawData.count()\n",
    "rawData = rawData.filter(lambda x:x !=header)    #filter out header"
   ]
  },
  {
   "cell_type": "code",
   "execution_count": 6,
   "metadata": {
    "collapsed": false
   },
   "outputs": [],
   "source": [
    "#from pyspark.sql import DataFrameReader \n",
    "#df = sqlContext.read.format('com.databricks.spark.csv').options(header='true', inferschema='true').load(fileName)"
   ]
  },
  {
   "cell_type": "markdown",
   "metadata": {},
   "source": [
    "A Spark DataFrame is a distributed collection of data organized into named columns. It is conceptually equivalent to a table in a relational database or a data frame in R or Pandas. They can be constructed from a wide array of sources such as an existing RDD in our case.\n",
    "\n",
    "The entry point into all SQL functionality in Spark is the SQLContext class. To create a basic instance, all we need is a SparkContext reference. Since we are running Spark in shell mode (using pySpark) we can use the global context object sc for this purpose."
   ]
  },
  {
   "cell_type": "markdown",
   "metadata": {},
   "source": [
    "The entry point into all functionality in Spark SQL is the SQLContext class, or one of its descendants. To create a basic SQLContext, all you need is a SparkContext."
   ]
  },
  {
   "cell_type": "code",
   "execution_count": 7,
   "metadata": {
    "collapsed": false,
    "scrolled": true
   },
   "outputs": [],
   "source": [
    "from pyspark.sql import SQLContext\n",
    "from pyspark.sql.types import *\n",
    "from pyspark.sql import Row\n",
    "\n",
    "# sc is an existing SparkContext.\n",
    "sqlContext = SQLContext(sc)"
   ]
  },
  {
   "cell_type": "markdown",
   "metadata": {},
   "source": [
    "We would now load data in a spark dataframe. Moreover, Spark dataframe offers best performances than RDDs and it is easier to manipulate dataframe."
   ]
  },
  {
   "cell_type": "markdown",
   "metadata": {},
   "source": [
    "First, method to create a DataFrame and inferring variable types consists in using the DataBricks library:"
   ]
  },
  {
   "cell_type": "code",
   "execution_count": 8,
   "metadata": {
    "collapsed": false
   },
   "outputs": [
    {
     "data": {
      "text/plain": [
       "[('encounter_id', 'int'),\n",
       " ('patient_nbr', 'int'),\n",
       " ('race', 'string'),\n",
       " ('gender', 'string'),\n",
       " ('age', 'string'),\n",
       " ('weight', 'string'),\n",
       " ('admission_type_id', 'int'),\n",
       " ('discharge_disposition_id', 'int'),\n",
       " ('admission_source_id', 'int'),\n",
       " ('time_in_hospital', 'int'),\n",
       " ('payer_code', 'string'),\n",
       " ('medical_specialty', 'string'),\n",
       " ('num_lab_procedures', 'int'),\n",
       " ('num_procedures', 'int'),\n",
       " ('num_medications', 'int'),\n",
       " ('number_outpatient', 'int'),\n",
       " ('number_emergency', 'int'),\n",
       " ('number_inpatient', 'int'),\n",
       " ('diag_1', 'string'),\n",
       " ('diag_2', 'string'),\n",
       " ('diag_3', 'string'),\n",
       " ('number_diagnoses', 'int'),\n",
       " ('max_glu_serum', 'string'),\n",
       " ('A1Cresult', 'string'),\n",
       " ('metformin', 'string'),\n",
       " ('repaglinide', 'string'),\n",
       " ('nateglinide', 'string'),\n",
       " ('chlorpropamide', 'string'),\n",
       " ('glimepiride', 'string'),\n",
       " ('acetohexamide', 'string'),\n",
       " ('glipizide', 'string'),\n",
       " ('glyburide', 'string'),\n",
       " ('tolbutamide', 'string'),\n",
       " ('pioglitazone', 'string'),\n",
       " ('rosiglitazone', 'string'),\n",
       " ('acarbose', 'string'),\n",
       " ('miglitol', 'string'),\n",
       " ('troglitazone', 'string'),\n",
       " ('tolazamide', 'string'),\n",
       " ('examide', 'string'),\n",
       " ('citoglipton', 'string'),\n",
       " ('insulin', 'string'),\n",
       " ('glyburide-metformin', 'string'),\n",
       " ('glipizide-metformin', 'string'),\n",
       " ('glimepiride-pioglitazone', 'string'),\n",
       " ('metformin-rosiglitazone', 'string'),\n",
       " ('metformin-pioglitazone', 'string'),\n",
       " ('change', 'string'),\n",
       " ('diabetesMed', 'string'),\n",
       " ('readmitted', 'string')]"
      ]
     },
     "execution_count": 8,
     "metadata": {},
     "output_type": "execute_result"
    }
   ],
   "source": [
    "df_from_databricks = sqlContext.read.format('com.databricks.spark.csv').options(header='true', inferschema='true').load(fileName)\n",
    "df_from_databricks.dtypes"
   ]
  },
  {
   "cell_type": "markdown",
   "metadata": {},
   "source": [
    "It seems that method 'inferSchema' works well. You would change somee variable format by using the method  .cast()"
   ]
  },
  {
   "cell_type": "markdown",
   "metadata": {},
   "source": [
    "Second method to create a DataFrame consists in creating a DataFrame from a RDD by using a sqlContext. This method doesnt make possible inferring format."
   ]
  },
  {
   "cell_type": "code",
   "execution_count": 9,
   "metadata": {
    "collapsed": false
   },
   "outputs": [],
   "source": [
    "csv_data = rawData.map(lambda l: l.split(\",\"))"
   ]
  },
  {
   "cell_type": "markdown",
   "metadata": {},
   "source": [
    "We load the header and first row in a pandas dataframe to get information about format"
   ]
  },
  {
   "cell_type": "code",
   "execution_count": 10,
   "metadata": {
    "collapsed": false
   },
   "outputs": [],
   "source": [
    "row_patient = csv_data.map(lambda p: Row(\n",
    "    encounter_id=p[0],\n",
    "    patient_nbr=p[1],\n",
    "    race =p[2],\n",
    "    gender=p[3],\n",
    "    age  =p[4],\n",
    "    weight =p[5],\n",
    "    admission_type_id =p[6],\n",
    "    discharge_disposition_id =p[7],\n",
    "    admission_source_id =p[8],\n",
    "    time_in_hospital =p[9],\n",
    "    payer_code =p[10],\n",
    "    medical_specialty =p[11],\n",
    "    num_lab_procedures =p[12],\n",
    "    num_procedures =p[13],\n",
    "    num_medications =p[14],\n",
    "    number_outpatient =p[15],\n",
    "    number_emergency =p[16],\n",
    "    number_inpatient =p[17],\n",
    "    diag_1   =p[18],\n",
    "    diag_2 =p[19],\n",
    "    diag_3 =p[20],\n",
    "    number_diagnoses  =int(p[21]),\n",
    "    max_glu_serum   =p[22],\n",
    "    A1Cresult       =p[23],\n",
    "    metformin       =p[24],\n",
    "    repaglinide     =p[25],\n",
    "    nateglinide     =p[26],                  \n",
    "    chlorpropamide  =p[27],               \n",
    "    glimepiride     =p[28],                  \n",
    "    acetohexamide   =p[29],                \n",
    "    glipizide       =p[30],                    \n",
    "    glyburide       =p[31],                    \n",
    "    tolbutamide     =p[32],                  \n",
    "    pioglitazone    =p[33],                 \n",
    "    rosiglitazone   =p[34],                \n",
    "    acarbose        =p[35],                     \n",
    "    miglitol        =p[36],                     \n",
    "    troglitazone    =p[37],                 \n",
    "    tolazamide      =p[38],                   \n",
    "    examide         =p[39],                            \n",
    "    citoglipton     =p[40],   \n",
    "    insulin         =p[41],   \n",
    "    glyburide_metformin  =p[42],   \n",
    "    glipizide_metformin  =p[43],   \n",
    "    glimepiride_pioglitazone  =p[44],   \n",
    "    metformin_rosiglitazone   =p[45],   \n",
    "    metformin_pioglitazone    =p[46],   \n",
    "    change     =p[47],   \n",
    "    diabetesMed=p[48],   \n",
    "    readmitted  =p[49]           \n",
    "    )\n",
    ")\n"
   ]
  },
  {
   "cell_type": "code",
   "execution_count": 11,
   "metadata": {
    "collapsed": false
   },
   "outputs": [],
   "source": [
    "df_from_rdd = sqlContext.createDataFrame(row_patient)\n",
    "df_from_rdd.registerTempTable(\"people\")"
   ]
  },
  {
   "cell_type": "markdown",
   "metadata": {},
   "source": [
    "We get easily get the data schema. Actually, Spark SQL can convert an RDD of Row objects to a DataFrame, inferring the datatypes. Rows are constructed by passing a list of key/value pairs as kwargs to the Row class. The keys of this list define the column names of the table, and the types are inferred by looking at the first row."
   ]
  },
  {
   "cell_type": "code",
   "execution_count": 12,
   "metadata": {
    "collapsed": false
   },
   "outputs": [
    {
     "name": "stdout",
     "output_type": "stream",
     "text": [
      "root\n",
      " |-- A1Cresult: string (nullable = true)\n",
      " |-- acarbose: string (nullable = true)\n",
      " |-- acetohexamide: string (nullable = true)\n",
      " |-- admission_source_id: string (nullable = true)\n",
      " |-- admission_type_id: string (nullable = true)\n",
      " |-- age: string (nullable = true)\n",
      " |-- change: string (nullable = true)\n",
      " |-- chlorpropamide: string (nullable = true)\n",
      " |-- citoglipton: string (nullable = true)\n",
      " |-- diabetesMed: string (nullable = true)\n",
      " |-- diag_1: string (nullable = true)\n",
      " |-- diag_2: string (nullable = true)\n",
      " |-- diag_3: string (nullable = true)\n",
      " |-- discharge_disposition_id: string (nullable = true)\n",
      " |-- encounter_id: string (nullable = true)\n",
      " |-- examide: string (nullable = true)\n",
      " |-- gender: string (nullable = true)\n",
      " |-- glimepiride: string (nullable = true)\n",
      " |-- glimepiride_pioglitazone: string (nullable = true)\n",
      " |-- glipizide: string (nullable = true)\n",
      " |-- glipizide_metformin: string (nullable = true)\n",
      " |-- glyburide: string (nullable = true)\n",
      " |-- glyburide_metformin: string (nullable = true)\n",
      " |-- insulin: string (nullable = true)\n",
      " |-- max_glu_serum: string (nullable = true)\n",
      " |-- medical_specialty: string (nullable = true)\n",
      " |-- metformin: string (nullable = true)\n",
      " |-- metformin_pioglitazone: string (nullable = true)\n",
      " |-- metformin_rosiglitazone: string (nullable = true)\n",
      " |-- miglitol: string (nullable = true)\n",
      " |-- nateglinide: string (nullable = true)\n",
      " |-- num_lab_procedures: string (nullable = true)\n",
      " |-- num_medications: string (nullable = true)\n",
      " |-- num_procedures: string (nullable = true)\n",
      " |-- number_diagnoses: long (nullable = true)\n",
      " |-- number_emergency: string (nullable = true)\n",
      " |-- number_inpatient: string (nullable = true)\n",
      " |-- number_outpatient: string (nullable = true)\n",
      " |-- patient_nbr: string (nullable = true)\n",
      " |-- payer_code: string (nullable = true)\n",
      " |-- pioglitazone: string (nullable = true)\n",
      " |-- race: string (nullable = true)\n",
      " |-- readmitted: string (nullable = true)\n",
      " |-- repaglinide: string (nullable = true)\n",
      " |-- rosiglitazone: string (nullable = true)\n",
      " |-- time_in_hospital: string (nullable = true)\n",
      " |-- tolazamide: string (nullable = true)\n",
      " |-- tolbutamide: string (nullable = true)\n",
      " |-- troglitazone: string (nullable = true)\n",
      " |-- weight: string (nullable = true)\n",
      "\n"
     ]
    }
   ],
   "source": [
    "df_from_rdd.printSchema()"
   ]
  },
  {
   "cell_type": "markdown",
   "metadata": {},
   "source": [
    "## Queries as DataFrame operations"
   ]
  },
  {
   "cell_type": "markdown",
   "metadata": {},
   "source": [
    "Spark DataFrame provides a domain-specific language for structured data manipulation. This language includes methods we can concatenate in order to do selection, filtering, grouping, etc. For example, let's say we want to count how many people are there for each age interval. We can proceed as follows."
   ]
  },
  {
   "cell_type": "code",
   "execution_count": 13,
   "metadata": {
    "collapsed": false
   },
   "outputs": [
    {
     "name": "stdout",
     "output_type": "stream",
     "text": [
      "+--------+-----+\n",
      "|     age|count|\n",
      "+--------+-----+\n",
      "| [70-80)|26068|\n",
      "|[90-100)| 2793|\n",
      "| [20-30)| 1657|\n",
      "| [40-50)| 9685|\n",
      "| [60-70)|22483|\n",
      "|  [0-10)|  161|\n",
      "| [80-90)|17197|\n",
      "| [10-20)|  691|\n",
      "| [30-40)| 3775|\n",
      "| [50-60)|17256|\n",
      "+--------+-----+\n",
      "\n",
      "Query performed in 3.002 seconds\n"
     ]
    }
   ],
   "source": [
    "from time import time\n",
    "\n",
    "t0 = time()\n",
    "df_from_databricks.select(\"admission_type_id\", \"weight\", \"gender\", \"age\").groupBy(\"age\").count().show()\n",
    "tt = time() - t0\n",
    "\n",
    "print \"Query performed in {} seconds\".format(round(tt,3))"
   ]
  },
  {
   "cell_type": "markdown",
   "metadata": {},
   "source": [
    "Now imagine we would parse the age interval to get the decade. Let's parse age to keep the second caracter."
   ]
  },
  {
   "cell_type": "code",
   "execution_count": 14,
   "metadata": {
    "collapsed": true
   },
   "outputs": [],
   "source": [
    "def getDecade(age):\n",
    "    return int(age[1])"
   ]
  },
  {
   "cell_type": "code",
   "execution_count": 15,
   "metadata": {
    "collapsed": false
   },
   "outputs": [],
   "source": [
    "row_age_parsed = csv_data.map(lambda p: Row(\n",
    "    encounter_id=p[0],\n",
    "    patient_nbr=p[1],\n",
    "    race =p[2],\n",
    "    gender=p[3],\n",
    "    age  =p[4],\n",
    "    age_decade  =getDecade(p[4]),\n",
    "    age_string  =p[4],\n",
    "    weight =p[5],\n",
    "    admission_type_id =p[6],\n",
    "    discharge_disposition_id =p[7],\n",
    "    admission_source_id =p[8],\n",
    "    time_in_hospital =p[9],\n",
    "    payer_code =p[10],\n",
    "    medical_specialty =p[11],\n",
    "    num_lab_procedures =p[12],\n",
    "    num_procedures =p[13],\n",
    "    num_medications =p[14],\n",
    "    number_outpatient =p[15],\n",
    "    number_emergency =p[16],\n",
    "    number_inpatient =p[17],\n",
    "    diag_1   =p[18],\n",
    "    diag_2 =p[19],\n",
    "    diag_3 =p[20],\n",
    "    number_diagnoses  =int(p[21]),\n",
    "    max_glu_serum   =p[22],\n",
    "    A1Cresult       =p[23],\n",
    "    metformin       =p[24],\n",
    "    repaglinide     =p[25],\n",
    "    nateglinide     =p[26],                  \n",
    "    chlorpropamide  =p[27],               \n",
    "    glimepiride     =p[28],                  \n",
    "    acetohexamide   =p[29],                \n",
    "    glipizide       =p[30],                    \n",
    "    glyburide       =p[31],                    \n",
    "    tolbutamide     =p[32],                  \n",
    "    pioglitazone    =p[33],                 \n",
    "    rosiglitazone   =p[34],                \n",
    "    acarbose        =p[35],                     \n",
    "    miglitol        =p[36],                     \n",
    "    troglitazone    =p[37],                 \n",
    "    tolazamide      =p[38],                   \n",
    "    examide         =p[39],                            \n",
    "    citoglipton     =p[40],   \n",
    "    insulin         =p[41],   \n",
    "    glyburide_metformin  =p[42],   \n",
    "    glipizide_metformin  =p[43],   \n",
    "    glimepiride_pioglitazone  =p[44],   \n",
    "    metformin_rosiglitazone   =p[45],   \n",
    "    metformin_pioglitazone    =p[46],   \n",
    "    change     =p[47],   \n",
    "    diabetesMed=p[48],   \n",
    "    readmitted  =p[49]            \n",
    "    )\n",
    ")\n",
    "#finally we store data in a new dataframe\n",
    "df_from_rdd_enriched = sqlContext.createDataFrame(row_age_parsed)"
   ]
  },
  {
   "cell_type": "markdown",
   "metadata": {},
   "source": [
    "Alternatively, with the df_from_databricks we can create new variables as follow :"
   ]
  },
  {
   "cell_type": "markdown",
   "metadata": {},
   "source": [
    "Be careful with variable transformation. We would often compute a new variable resulting from a transformation on already existing columns.  Contrary to pandas you could not use df[newVariable]=f(df[existingVariable]). You have to use a pySpark method call withColumns : "
   ]
  },
  {
   "cell_type": "code",
   "execution_count": 16,
   "metadata": {
    "collapsed": false
   },
   "outputs": [
    {
     "data": {
      "text/plain": [
       "Column<cast(age_string as string)>"
      ]
     },
     "execution_count": 16,
     "metadata": {},
     "output_type": "execute_result"
    }
   ],
   "source": [
    "#we convert age in string\n",
    "df_from_databricks = df_from_databricks.withColumn(\"age_string\", df_from_databricks[\"age\"])\n",
    "df_from_databricks.age_string.cast('string')"
   ]
  },
  {
   "cell_type": "code",
   "execution_count": 17,
   "metadata": {
    "collapsed": false
   },
   "outputs": [],
   "source": [
    "from pyspark.sql.functions import udf\n",
    "from pyspark.sql.types import *\n",
    "\n",
    "getDecadeUdf = udf(getDecade, IntegerType())"
   ]
  },
  {
   "cell_type": "code",
   "execution_count": 18,
   "metadata": {
    "collapsed": false
   },
   "outputs": [
    {
     "name": "stdout",
     "output_type": "stream",
     "text": [
      "+----------+\n",
      "|age_decade|\n",
      "+----------+\n",
      "|         0|\n",
      "|         1|\n",
      "|         2|\n",
      "|         3|\n",
      "|         4|\n",
      "|         5|\n",
      "|         6|\n",
      "|         7|\n",
      "|         8|\n",
      "|         9|\n",
      "|         4|\n",
      "|         6|\n",
      "|         4|\n",
      "|         8|\n",
      "|         6|\n",
      "|         6|\n",
      "|         5|\n",
      "|         5|\n",
      "|         7|\n",
      "|         7|\n",
      "+----------+\n",
      "only showing top 20 rows\n",
      "\n"
     ]
    }
   ],
   "source": [
    "#let apply the udf to extract the decade from age\n",
    "df_from_databricks = df_from_databricks.withColumn(\"age_decade\", getDecadeUdf(df_from_databricks[\"age\"]))\n",
    "df_from_databricks.select(\"age_decade\").show()"
   ]
  },
  {
   "cell_type": "code",
   "execution_count": 19,
   "metadata": {
    "collapsed": false,
    "scrolled": true
   },
   "outputs": [
    {
     "name": "stdout",
     "output_type": "stream",
     "text": [
      "        age  gender age_string  count\n",
      "0   [70-80)    Male    [70-80)  12081\n",
      "1   [80-90)  Female    [80-90)  10515\n",
      "2   [60-70)    Male    [60-70)  11421\n",
      "3  [90-100)  Female   [90-100)   2003\n",
      "4   [70-80)  Female    [70-80)  13985\n"
     ]
    }
   ],
   "source": [
    "distAge = df_from_databricks.select('encounter_id','gender','age','age_string').groupBy(\"age\",'gender',\"age_string\").count()\n",
    "distAge_pd = distAge.toPandas()\n",
    "print distAge_pd.head(5)"
   ]
  },
  {
   "cell_type": "code",
   "execution_count": 20,
   "metadata": {
    "collapsed": false
   },
   "outputs": [
    {
     "name": "stdout",
     "output_type": "stream",
     "text": [
      "+----------+------+---------------+-----+\n",
      "|age_gender|Female|Unknown/Invalid| Male|\n",
      "+----------+------+---------------+-----+\n",
      "|   [50-60)|  8572|              0| 8684|\n",
      "|   [70-80)| 13985|              2|12081|\n",
      "|  [90-100)|  2003|              0|  790|\n",
      "|   [40-50)|  4811|              0| 4874|\n",
      "|    [0-10)|    83|              0|   78|\n",
      "|   [20-30)|  1114|              0|  543|\n",
      "|   [30-40)|  2162|              0| 1613|\n",
      "|   [60-70)| 11061|              1|11421|\n",
      "|   [80-90)| 10515|              0| 6682|\n",
      "|   [10-20)|   402|              0|  289|\n",
      "+----------+------+---------------+-----+\n",
      "\n",
      "None\n",
      "+-----------------+----+-----+-----+\n",
      "|gender_readmitted| <30|   NO|  >30|\n",
      "+-----------------+----+-----+-----+\n",
      "|  Unknown/Invalid|   0|    3|    0|\n",
      "|             Male|5205|25823|16027|\n",
      "|           Female|6152|29038|19518|\n",
      "+-----------------+----+-----+-----+\n",
      "\n",
      "None\n"
     ]
    }
   ],
   "source": [
    "#Another useful function is crosstable which compute a Cross Tabulation (Contingency Table)\n",
    "#Cross Tabulation provides a table of the frequency distribution for a set of variables. \n",
    "print df_from_databricks.stat.crosstab(\"age\", \"gender\").show()\n",
    "print df_from_databricks.stat.crosstab(\"gender\", \"readmitted\").show()"
   ]
  },
  {
   "cell_type": "code",
   "execution_count": 21,
   "metadata": {
    "collapsed": false,
    "scrolled": true
   },
   "outputs": [
    {
     "data": {
      "image/png": "[encoded data removed]",
      "text/plain": [
       "<matplotlib.figure.Figure at 0xad634a8c>"
      ]
     },
     "metadata": {},
     "output_type": "display_data"
    }
   ],
   "source": [
    "%matplotlib inline\n",
    "import matplotlib as mpl\n",
    "import matplotlib.pyplot as plt\n",
    "import numpy as np\n",
    "\n",
    "age = distAge_pd['age_string']\n",
    "countMen = distAge_pd.loc[distAge_pd['gender'] == \"Male\"][\"count\"]\n",
    "countWomen = distAge_pd.loc[distAge_pd['gender'] == \"Female\"][\"count\"]\n",
    "N = 10\n",
    "ind = np.arange(N) # the x locations for the groups\n",
    "width = 0.2       # the width of the bars: can also be len(x) sequence\n",
    "\n",
    "ax = plt.subplot(111)\n",
    "p1 = plt.bar(ind, countMen, width, color='b')\n",
    "p2 = plt.bar(ind, countWomen, width, color='r')\n",
    "\n",
    "plt.ylabel('People distribution')\n",
    "plt.title('Count people by age and gender')\n",
    "plt.xticks(ind + width/2., age)\n",
    "plt.yticks(np.arange(0,20000, 5000))\n",
    "plt.legend((p1[0], p2[0]), ('Men', 'Women'))\n",
    "\n",
    "plt.show()"
   ]
  },
  {
   "cell_type": "markdown",
   "metadata": {
    "collapsed": true
   },
   "source": [
    "### Spark Transformation and Action for feature engineering"
   ]
  },
  {
   "cell_type": "markdown",
   "metadata": {},
   "source": [
    "Before processing and transform some variable we would be interested by a general data description"
   ]
  },
  {
   "cell_type": "code",
   "execution_count": 22,
   "metadata": {
    "collapsed": false
   },
   "outputs": [
    {
     "data": {
      "text/plain": [
       "DataFrame[summary: string, age_decade: string]"
      ]
     },
     "execution_count": 22,
     "metadata": {},
     "output_type": "execute_result"
    }
   ],
   "source": [
    "df_from_databricks[[\"age_decade\"]].describe()\n",
    "# you can note some bug. Actually, age is bigint but recognized by .describe() as string"
   ]
  },
  {
   "cell_type": "markdown",
   "metadata": {},
   "source": [
    "#### Filtering"
   ]
  },
  {
   "cell_type": "markdown",
   "metadata": {},
   "source": [
    "Filtering is pretty much straightforward too, you can use the *RDD-like* filter method and copy any of your existing Pandas expression/predicate for filtering :"
   ]
  },
  {
   "cell_type": "code",
   "execution_count": 23,
   "metadata": {
    "collapsed": false
   },
   "outputs": [
    {
     "name": "stdout",
     "output_type": "stream",
     "text": [
      "There are 101766 patients \n",
      "There are 66221 patients with readmission value equals to '<30' or 'No'\n"
     ]
    }
   ],
   "source": [
    "# use select to show a particular column\n",
    "#df.select('readmitted').show()\n",
    "#we would drop row with readmitted with value \">30\" to have a two-classes classification.\n",
    "print \"There are %s patients \" % df_from_databricks.count()\n",
    "df_filtered = df_from_databricks.filter(df_from_databricks.readmitted !=\">30\").count()\n",
    "print \"There are %s patients with readmission value equals to '<30' or 'No'\" %  df_filtered"
   ]
  },
  {
   "cell_type": "code",
   "execution_count": 24,
   "metadata": {
    "collapsed": false,
    "scrolled": false
   },
   "outputs": [
    {
     "name": "stdout",
     "output_type": "stream",
     "text": [
      "['admission_type_id', 'discharge_disposition_id', 'admission_source_id', 'time_in_hospital', 'num_lab_procedures', 'num_procedures', 'num_medications', 'number_outpatient', 'number_emergency', 'number_inpatient', 'number_diagnoses', 'age_decade']\n"
     ]
    }
   ],
   "source": [
    "#We would keep only numeric column to compute correlation 2-2\n",
    "colInt = [ c[0] for c in df_from_databricks.dtypes if ((c[1] in ['bigint','int','float']) and (c[0] not in ['encounter_id','patient_nbr']))]\n",
    "print colInt"
   ]
  },
  {
   "cell_type": "markdown",
   "metadata": {},
   "source": [
    "## Statistics with mllib"
   ]
  },
  {
   "cell_type": "markdown",
   "metadata": {},
   "source": [
    "We are now introducing Spark's machine learning library MLlib through its basic statistics functionality in order to better understand our dataset."
   ]
  },
  {
   "cell_type": "code",
   "execution_count": 26,
   "metadata": {
    "collapsed": true
   },
   "outputs": [],
   "source": [
    "### Descriptive and exploratory analysis"
   ]
  },
  {
   "cell_type": "markdown",
   "metadata": {},
   "source": [
    "pyspark.sql already contains some basic statistical function but we will focus on mllib.Statistics which provides methods to calculate correlations between series. Firstly, we would compute a correlation matrix from the dataframe"
   ]
  },
  {
   "cell_type": "code",
   "execution_count": 27,
   "metadata": {
    "collapsed": false
   },
   "outputs": [
    {
     "data": {
      "text/plain": [
       "0.04519734115117919"
      ]
     },
     "execution_count": 27,
     "metadata": {},
     "output_type": "execute_result"
    }
   ],
   "source": [
    "from pyspark.sql import DataFrameStatFunctions\n",
    "df_from_databricks.corr('num_medications','number_outpatient')"
   ]
  },
  {
   "cell_type": "code",
   "execution_count": 29,
   "metadata": {
    "collapsed": false
   },
   "outputs": [],
   "source": [
    "from pyspark.mllib.stat import Statistics\n",
    "from pyspark.mllib.stat import MultivariateStatisticalSummary\n",
    "from pyspark.mllib.linalg import Vector\n",
    "from math import sqrt "
   ]
  },
  {
   "cell_type": "code",
   "execution_count": 30,
   "metadata": {
    "collapsed": false
   },
   "outputs": [
    {
     "name": "stdout",
     "output_type": "stream",
     "text": [
      "0.0451973411512\n"
     ]
    }
   ],
   "source": [
    "seriesX = df_from_databricks.select('num_medications').rdd.map(lambda x:float(x[0]))\n",
    "seriesY = df_from_databricks.select('number_outpatient').rdd.map(lambda x:float(x[0]))\n",
    "print(Statistics.corr(seriesX, seriesY, method=\"pearson\"))\n"
   ]
  },
  {
   "cell_type": "code",
   "execution_count": 31,
   "metadata": {
    "collapsed": false
   },
   "outputs": [],
   "source": [
    "rdd_from_df = df_from_databricks.select(colInt).rdd"
   ]
  },
  {
   "cell_type": "code",
   "execution_count": 205,
   "metadata": {
    "collapsed": false
   },
   "outputs": [
    {
     "ename": "Py4JJavaError",
     "evalue": "An error occurred while calling o4343.corr.\n: org.apache.spark.SparkException: Job aborted due to stage failure: Task 0 in stage 155.0 failed 1 times, most recent failure: Lost task 0.0 in stage 155.0 (TID 1930, localhost): org.apache.spark.api.python.PythonException: Traceback (most recent call last):\n  File \"/usr/lib/spark-1.6.1-bin-hadoop2.6/python/lib/pyspark.zip/pyspark/worker.py\", line 111, in main\n    process()\n  File \"/usr/lib/spark-1.6.1-bin-hadoop2.6/python/lib/pyspark.zip/pyspark/worker.py\", line 106, in process\n    serializer.dump_stream(func(split_index, iterator), outfile)\n  File \"/usr/lib/spark-1.6.1-bin-hadoop2.6/python/lib/pyspark.zip/pyspark/serializers.py\", line 263, in dump_stream\n    vs = list(itertools.islice(iterator, batch))\n  File \"/usr/lib/spark-1.6.1-bin-hadoop2.6/python/lib/pyspark.zip/pyspark/mllib/linalg/__init__.py\", line 77, in _convert_to_vector\n    raise TypeError(\"Cannot convert type %s into Vector\" % type(l))\nTypeError: Cannot convert type <type 'float'> into Vector\n\n\tat org.apache.spark.api.python.PythonRunner$$anon$1.read(PythonRDD.scala:166)\n\tat org.apache.spark.api.python.PythonRunner$$anon$1.<init>(PythonRDD.scala:207)\n\tat org.apache.spark.api.python.PythonRunner.compute(PythonRDD.scala:125)\n\tat org.apache.spark.api.python.PythonRDD.compute(PythonRDD.scala:70)\n\tat org.apache.spark.rdd.RDD.computeOrReadCheckpoint(RDD.scala:306)\n\tat org.apache.spark.rdd.RDD.iterator(RDD.scala:270)\n\tat org.apache.spark.rdd.MapPartitionsRDD.compute(MapPartitionsRDD.scala:38)\n\tat org.apache.spark.rdd.RDD.computeOrReadCheckpoint(RDD.scala:306)\n\tat org.apache.spark.rdd.RDD.iterator(RDD.scala:270)\n\tat org.apache.spark.scheduler.ResultTask.runTask(ResultTask.scala:66)\n\tat org.apache.spark.scheduler.Task.run(Task.scala:89)\n\tat org.apache.spark.executor.Executor$TaskRunner.run(Executor.scala:214)\n\tat java.util.concurrent.ThreadPoolExecutor.runWorker(ThreadPoolExecutor.java:1145)\n\tat java.util.concurrent.ThreadPoolExecutor$Worker.run(ThreadPoolExecutor.java:615)\n\tat java.lang.Thread.run(Thread.java:745)\n\nDriver stacktrace:\n\tat org.apache.spark.scheduler.DAGScheduler.org$apache$spark$scheduler$DAGScheduler$$failJobAndIndependentStages(DAGScheduler.scala:1431)\n\tat org.apache.spark.scheduler.DAGScheduler$$anonfun$abortStage$1.apply(DAGScheduler.scala:1419)\n\tat org.apache.spark.scheduler.DAGScheduler$$anonfun$abortStage$1.apply(DAGScheduler.scala:1418)\n\tat scala.collection.mutable.ResizableArray$class.foreach(ResizableArray.scala:59)\n\tat scala.collection.mutable.ArrayBuffer.foreach(ArrayBuffer.scala:47)\n\tat org.apache.spark.scheduler.DAGScheduler.abortStage(DAGScheduler.scala:1418)\n\tat org.apache.spark.scheduler.DAGScheduler$$anonfun$handleTaskSetFailed$1.apply(DAGScheduler.scala:799)\n\tat org.apache.spark.scheduler.DAGScheduler$$anonfun$handleTaskSetFailed$1.apply(DAGScheduler.scala:799)\n\tat scala.Option.foreach(Option.scala:236)\n\tat org.apache.spark.scheduler.DAGScheduler.handleTaskSetFailed(DAGScheduler.scala:799)\n\tat org.apache.spark.scheduler.DAGSchedulerEventProcessLoop.doOnReceive(DAGScheduler.scala:1640)\n\tat org.apache.spark.scheduler.DAGSchedulerEventProcessLoop.onReceive(DAGScheduler.scala:1599)\n\tat org.apache.spark.scheduler.DAGSchedulerEventProcessLoop.onReceive(DAGScheduler.scala:1588)\n\tat org.apache.spark.util.EventLoop$$anon$1.run(EventLoop.scala:48)\n\tat org.apache.spark.scheduler.DAGScheduler.runJob(DAGScheduler.scala:620)\n\tat org.apache.spark.SparkContext.runJob(SparkContext.scala:1832)\n\tat org.apache.spark.SparkContext.runJob(SparkContext.scala:1845)\n\tat org.apache.spark.SparkContext.runJob(SparkContext.scala:1858)\n\tat org.apache.spark.rdd.RDD$$anonfun$take$1.apply(RDD.scala:1328)\n\tat org.apache.spark.rdd.RDDOperationScope$.withScope(RDDOperationScope.scala:150)\n\tat org.apache.spark.rdd.RDDOperationScope$.withScope(RDDOperationScope.scala:111)\n\tat org.apache.spark.rdd.RDD.withScope(RDD.scala:316)\n\tat org.apache.spark.rdd.RDD.take(RDD.scala:1302)\n\tat org.apache.spark.rdd.RDD$$anonfun$first$1.apply(RDD.scala:1342)\n\tat org.apache.spark.rdd.RDDOperationScope$.withScope(RDDOperationScope.scala:150)\n\tat org.apache.spark.rdd.RDDOperationScope$.withScope(RDDOperationScope.scala:111)\n\tat org.apache.spark.rdd.RDD.withScope(RDD.scala:316)\n\tat org.apache.spark.rdd.RDD.first(RDD.scala:1341)\n\tat org.apache.spark.mllib.linalg.distributed.RowMatrix.numCols(RowMatrix.scala:61)\n\tat org.apache.spark.mllib.linalg.distributed.RowMatrix.computeCovariance(RowMatrix.scala:328)\n\tat org.apache.spark.mllib.stat.correlation.PearsonCorrelation$.computeCorrelationMatrix(PearsonCorrelation.scala:49)\n\tat org.apache.spark.mllib.stat.correlation.Correlations$.corrMatrix(Correlation.scala:66)\n\tat org.apache.spark.mllib.stat.Statistics$.corr(Statistics.scala:74)\n\tat org.apache.spark.mllib.api.python.PythonMLLibAPI.corr(PythonMLLibAPI.scala:813)\n\tat sun.reflect.NativeMethodAccessorImpl.invoke0(Native Method)\n\tat sun.reflect.NativeMethodAccessorImpl.invoke(NativeMethodAccessorImpl.java:57)\n\tat sun.reflect.DelegatingMethodAccessorImpl.invoke(DelegatingMethodAccessorImpl.java:43)\n\tat java.lang.reflect.Method.invoke(Method.java:606)\n\tat py4j.reflection.MethodInvoker.invoke(MethodInvoker.java:231)\n\tat py4j.reflection.ReflectionEngine.invoke(ReflectionEngine.java:381)\n\tat py4j.Gateway.invoke(Gateway.java:259)\n\tat py4j.commands.AbstractCommand.invokeMethod(AbstractCommand.java:133)\n\tat py4j.commands.CallCommand.execute(CallCommand.java:79)\n\tat py4j.GatewayConnection.run(GatewayConnection.java:209)\n\tat java.lang.Thread.run(Thread.java:745)\nCaused by: org.apache.spark.api.python.PythonException: Traceback (most recent call last):\n  File \"/usr/lib/spark-1.6.1-bin-hadoop2.6/python/lib/pyspark.zip/pyspark/worker.py\", line 111, in main\n    process()\n  File \"/usr/lib/spark-1.6.1-bin-hadoop2.6/python/lib/pyspark.zip/pyspark/worker.py\", line 106, in process\n    serializer.dump_stream(func(split_index, iterator), outfile)\n  File \"/usr/lib/spark-1.6.1-bin-hadoop2.6/python/lib/pyspark.zip/pyspark/serializers.py\", line 263, in dump_stream\n    vs = list(itertools.islice(iterator, batch))\n  File \"/usr/lib/spark-1.6.1-bin-hadoop2.6/python/lib/pyspark.zip/pyspark/mllib/linalg/__init__.py\", line 77, in _convert_to_vector\n    raise TypeError(\"Cannot convert type %s into Vector\" % type(l))\nTypeError: Cannot convert type <type 'float'> into Vector\n\n\tat org.apache.spark.api.python.PythonRunner$$anon$1.read(PythonRDD.scala:166)\n\tat org.apache.spark.api.python.PythonRunner$$anon$1.<init>(PythonRDD.scala:207)\n\tat org.apache.spark.api.python.PythonRunner.compute(PythonRDD.scala:125)\n\tat org.apache.spark.api.python.PythonRDD.compute(PythonRDD.scala:70)\n\tat org.apache.spark.rdd.RDD.computeOrReadCheckpoint(RDD.scala:306)\n\tat org.apache.spark.rdd.RDD.iterator(RDD.scala:270)\n\tat org.apache.spark.rdd.MapPartitionsRDD.compute(MapPartitionsRDD.scala:38)\n\tat org.apache.spark.rdd.RDD.computeOrReadCheckpoint(RDD.scala:306)\n\tat org.apache.spark.rdd.RDD.iterator(RDD.scala:270)\n\tat org.apache.spark.scheduler.ResultTask.runTask(ResultTask.scala:66)\n\tat org.apache.spark.scheduler.Task.run(Task.scala:89)\n\tat org.apache.spark.executor.Executor$TaskRunner.run(Executor.scala:214)\n\tat java.util.concurrent.ThreadPoolExecutor.runWorker(ThreadPoolExecutor.java:1145)\n\tat java.util.concurrent.ThreadPoolExecutor$Worker.run(ThreadPoolExecutor.java:615)\n\t... 1 more\n",
     "output_type": "error",
     "traceback": [
      "\u001b[1;31m---------------------------------------------------------------------------\u001b[0m",
      "\u001b[1;31mPy4JJavaError\u001b[0m                             Traceback (most recent call last)",
      "\u001b[1;32m<ipython-input-205-89b6ee0385a4>\u001b[0m in \u001b[0;36m<module>\u001b[1;34m()\u001b[0m\n\u001b[0;32m      1\u001b[0m \u001b[0mdata\u001b[0m \u001b[1;33m=\u001b[0m \u001b[0mrdd_from_df\u001b[0m\u001b[1;33m.\u001b[0m\u001b[0mmap\u001b[0m\u001b[1;33m(\u001b[0m\u001b[1;32mlambda\u001b[0m \u001b[0mr\u001b[0m\u001b[1;33m:\u001b[0m\u001b[0mfloat\u001b[0m\u001b[1;33m(\u001b[0m\u001b[0mr\u001b[0m\u001b[1;33m[\u001b[0m\u001b[1;36m0\u001b[0m\u001b[1;33m]\u001b[0m\u001b[1;33m)\u001b[0m\u001b[1;33m)\u001b[0m\u001b[1;33m\u001b[0m\u001b[0m\n\u001b[1;32m----> 2\u001b[1;33m \u001b[1;32mprint\u001b[0m\u001b[1;33m(\u001b[0m\u001b[0mStatistics\u001b[0m\u001b[1;33m.\u001b[0m\u001b[0mcorr\u001b[0m\u001b[1;33m(\u001b[0m\u001b[0mdata\u001b[0m\u001b[1;33m,\u001b[0m \u001b[0mmethod\u001b[0m\u001b[1;33m=\u001b[0m\u001b[1;34m\"pearson\"\u001b[0m\u001b[1;33m)\u001b[0m\u001b[1;33m)\u001b[0m\u001b[1;33m\u001b[0m\u001b[0m\n\u001b[0m",
      "\u001b[1;32m/usr/lib/spark/python/pyspark/mllib/stat/_statistics.py\u001b[0m in \u001b[0;36mcorr\u001b[1;34m(x, y, method)\u001b[0m\n\u001b[0;32m    153\u001b[0m \u001b[1;33m\u001b[0m\u001b[0m\n\u001b[0;32m    154\u001b[0m         \u001b[1;32mif\u001b[0m \u001b[1;32mnot\u001b[0m \u001b[0my\u001b[0m\u001b[1;33m:\u001b[0m\u001b[1;33m\u001b[0m\u001b[0m\n\u001b[1;32m--> 155\u001b[1;33m             \u001b[1;32mreturn\u001b[0m \u001b[0mcallMLlibFunc\u001b[0m\u001b[1;33m(\u001b[0m\u001b[1;34m\"corr\"\u001b[0m\u001b[1;33m,\u001b[0m \u001b[0mx\u001b[0m\u001b[1;33m.\u001b[0m\u001b[0mmap\u001b[0m\u001b[1;33m(\u001b[0m\u001b[0m_convert_to_vector\u001b[0m\u001b[1;33m)\u001b[0m\u001b[1;33m,\u001b[0m \u001b[0mmethod\u001b[0m\u001b[1;33m)\u001b[0m\u001b[1;33m.\u001b[0m\u001b[0mtoArray\u001b[0m\u001b[1;33m(\u001b[0m\u001b[1;33m)\u001b[0m\u001b[1;33m\u001b[0m\u001b[0m\n\u001b[0m\u001b[0;32m    156\u001b[0m         \u001b[1;32melse\u001b[0m\u001b[1;33m:\u001b[0m\u001b[1;33m\u001b[0m\u001b[0m\n\u001b[0;32m    157\u001b[0m             \u001b[1;32mreturn\u001b[0m \u001b[0mcallMLlibFunc\u001b[0m\u001b[1;33m(\u001b[0m\u001b[1;34m\"corr\"\u001b[0m\u001b[1;33m,\u001b[0m \u001b[0mx\u001b[0m\u001b[1;33m.\u001b[0m\u001b[0mmap\u001b[0m\u001b[1;33m(\u001b[0m\u001b[0mfloat\u001b[0m\u001b[1;33m)\u001b[0m\u001b[1;33m,\u001b[0m \u001b[0my\u001b[0m\u001b[1;33m.\u001b[0m\u001b[0mmap\u001b[0m\u001b[1;33m(\u001b[0m\u001b[0mfloat\u001b[0m\u001b[1;33m)\u001b[0m\u001b[1;33m,\u001b[0m \u001b[0mmethod\u001b[0m\u001b[1;33m)\u001b[0m\u001b[1;33m\u001b[0m\u001b[0m\n",
      "\u001b[1;32m/usr/lib/spark/python/pyspark/mllib/common.py\u001b[0m in \u001b[0;36mcallMLlibFunc\u001b[1;34m(name, *args)\u001b[0m\n\u001b[0;32m    128\u001b[0m     \u001b[0msc\u001b[0m \u001b[1;33m=\u001b[0m \u001b[0mSparkContext\u001b[0m\u001b[1;33m.\u001b[0m\u001b[0mgetOrCreate\u001b[0m\u001b[1;33m(\u001b[0m\u001b[1;33m)\u001b[0m\u001b[1;33m\u001b[0m\u001b[0m\n\u001b[0;32m    129\u001b[0m     \u001b[0mapi\u001b[0m \u001b[1;33m=\u001b[0m \u001b[0mgetattr\u001b[0m\u001b[1;33m(\u001b[0m\u001b[0msc\u001b[0m\u001b[1;33m.\u001b[0m\u001b[0m_jvm\u001b[0m\u001b[1;33m.\u001b[0m\u001b[0mPythonMLLibAPI\u001b[0m\u001b[1;33m(\u001b[0m\u001b[1;33m)\u001b[0m\u001b[1;33m,\u001b[0m \u001b[0mname\u001b[0m\u001b[1;33m)\u001b[0m\u001b[1;33m\u001b[0m\u001b[0m\n\u001b[1;32m--> 130\u001b[1;33m     \u001b[1;32mreturn\u001b[0m \u001b[0mcallJavaFunc\u001b[0m\u001b[1;33m(\u001b[0m\u001b[0msc\u001b[0m\u001b[1;33m,\u001b[0m \u001b[0mapi\u001b[0m\u001b[1;33m,\u001b[0m \u001b[1;33m*\u001b[0m\u001b[0margs\u001b[0m\u001b[1;33m)\u001b[0m\u001b[1;33m\u001b[0m\u001b[0m\n\u001b[0m\u001b[0;32m    131\u001b[0m \u001b[1;33m\u001b[0m\u001b[0m\n\u001b[0;32m    132\u001b[0m \u001b[1;33m\u001b[0m\u001b[0m\n",
      "\u001b[1;32m/usr/lib/spark/python/pyspark/mllib/common.py\u001b[0m in \u001b[0;36mcallJavaFunc\u001b[1;34m(sc, func, *args)\u001b[0m\n\u001b[0;32m    121\u001b[0m     \u001b[1;34m\"\"\" Call Java Function \"\"\"\u001b[0m\u001b[1;33m\u001b[0m\u001b[0m\n\u001b[0;32m    122\u001b[0m     \u001b[0margs\u001b[0m \u001b[1;33m=\u001b[0m \u001b[1;33m[\u001b[0m\u001b[0m_py2java\u001b[0m\u001b[1;33m(\u001b[0m\u001b[0msc\u001b[0m\u001b[1;33m,\u001b[0m \u001b[0ma\u001b[0m\u001b[1;33m)\u001b[0m \u001b[1;32mfor\u001b[0m \u001b[0ma\u001b[0m \u001b[1;32min\u001b[0m \u001b[0margs\u001b[0m\u001b[1;33m]\u001b[0m\u001b[1;33m\u001b[0m\u001b[0m\n\u001b[1;32m--> 123\u001b[1;33m     \u001b[1;32mreturn\u001b[0m \u001b[0m_java2py\u001b[0m\u001b[1;33m(\u001b[0m\u001b[0msc\u001b[0m\u001b[1;33m,\u001b[0m \u001b[0mfunc\u001b[0m\u001b[1;33m(\u001b[0m\u001b[1;33m*\u001b[0m\u001b[0margs\u001b[0m\u001b[1;33m)\u001b[0m\u001b[1;33m)\u001b[0m\u001b[1;33m\u001b[0m\u001b[0m\n\u001b[0m\u001b[0;32m    124\u001b[0m \u001b[1;33m\u001b[0m\u001b[0m\n\u001b[0;32m    125\u001b[0m \u001b[1;33m\u001b[0m\u001b[0m\n",
      "\u001b[1;32m/usr/local/lib/python2.7/dist-packages/py4j/java_gateway.pyc\u001b[0m in \u001b[0;36m__call__\u001b[1;34m(self, *args)\u001b[0m\n\u001b[0;32m    931\u001b[0m         \u001b[0manswer\u001b[0m \u001b[1;33m=\u001b[0m \u001b[0mself\u001b[0m\u001b[1;33m.\u001b[0m\u001b[0mgateway_client\u001b[0m\u001b[1;33m.\u001b[0m\u001b[0msend_command\u001b[0m\u001b[1;33m(\u001b[0m\u001b[0mcommand\u001b[0m\u001b[1;33m)\u001b[0m\u001b[1;33m\u001b[0m\u001b[0m\n\u001b[0;32m    932\u001b[0m         return_value = get_return_value(\n\u001b[1;32m--> 933\u001b[1;33m             answer, self.gateway_client, self.target_id, self.name)\n\u001b[0m\u001b[0;32m    934\u001b[0m \u001b[1;33m\u001b[0m\u001b[0m\n\u001b[0;32m    935\u001b[0m         \u001b[1;32mfor\u001b[0m \u001b[0mtemp_arg\u001b[0m \u001b[1;32min\u001b[0m \u001b[0mtemp_args\u001b[0m\u001b[1;33m:\u001b[0m\u001b[1;33m\u001b[0m\u001b[0m\n",
      "\u001b[1;32m/usr/lib/spark/python/pyspark/sql/utils.pyc\u001b[0m in \u001b[0;36mdeco\u001b[1;34m(*a, **kw)\u001b[0m\n\u001b[0;32m     43\u001b[0m     \u001b[1;32mdef\u001b[0m \u001b[0mdeco\u001b[0m\u001b[1;33m(\u001b[0m\u001b[1;33m*\u001b[0m\u001b[0ma\u001b[0m\u001b[1;33m,\u001b[0m \u001b[1;33m**\u001b[0m\u001b[0mkw\u001b[0m\u001b[1;33m)\u001b[0m\u001b[1;33m:\u001b[0m\u001b[1;33m\u001b[0m\u001b[0m\n\u001b[0;32m     44\u001b[0m         \u001b[1;32mtry\u001b[0m\u001b[1;33m:\u001b[0m\u001b[1;33m\u001b[0m\u001b[0m\n\u001b[1;32m---> 45\u001b[1;33m             \u001b[1;32mreturn\u001b[0m \u001b[0mf\u001b[0m\u001b[1;33m(\u001b[0m\u001b[1;33m*\u001b[0m\u001b[0ma\u001b[0m\u001b[1;33m,\u001b[0m \u001b[1;33m**\u001b[0m\u001b[0mkw\u001b[0m\u001b[1;33m)\u001b[0m\u001b[1;33m\u001b[0m\u001b[0m\n\u001b[0m\u001b[0;32m     46\u001b[0m         \u001b[1;32mexcept\u001b[0m \u001b[0mpy4j\u001b[0m\u001b[1;33m.\u001b[0m\u001b[0mprotocol\u001b[0m\u001b[1;33m.\u001b[0m\u001b[0mPy4JJavaError\u001b[0m \u001b[1;32mas\u001b[0m \u001b[0me\u001b[0m\u001b[1;33m:\u001b[0m\u001b[1;33m\u001b[0m\u001b[0m\n\u001b[0;32m     47\u001b[0m             \u001b[0ms\u001b[0m \u001b[1;33m=\u001b[0m \u001b[0me\u001b[0m\u001b[1;33m.\u001b[0m\u001b[0mjava_exception\u001b[0m\u001b[1;33m.\u001b[0m\u001b[0mtoString\u001b[0m\u001b[1;33m(\u001b[0m\u001b[1;33m)\u001b[0m\u001b[1;33m\u001b[0m\u001b[0m\n",
      "\u001b[1;32m/usr/local/lib/python2.7/dist-packages/py4j/protocol.pyc\u001b[0m in \u001b[0;36mget_return_value\u001b[1;34m(answer, gateway_client, target_id, name)\u001b[0m\n\u001b[0;32m    310\u001b[0m                 raise Py4JJavaError(\n\u001b[0;32m    311\u001b[0m                     \u001b[1;34m\"An error occurred while calling {0}{1}{2}.\\n\"\u001b[0m\u001b[1;33m.\u001b[0m\u001b[1;33m\u001b[0m\u001b[0m\n\u001b[1;32m--> 312\u001b[1;33m                     format(target_id, \".\", name), value)\n\u001b[0m\u001b[0;32m    313\u001b[0m             \u001b[1;32melse\u001b[0m\u001b[1;33m:\u001b[0m\u001b[1;33m\u001b[0m\u001b[0m\n\u001b[0;32m    314\u001b[0m                 raise Py4JError(\n",
      "\u001b[1;31mPy4JJavaError\u001b[0m: An error occurred while calling o4343.corr.\n: org.apache.spark.SparkException: Job aborted due to stage failure: Task 0 in stage 155.0 failed 1 times, most recent failure: Lost task 0.0 in stage 155.0 (TID 1930, localhost): org.apache.spark.api.python.PythonException: Traceback (most recent call last):\n  File \"/usr/lib/spark-1.6.1-bin-hadoop2.6/python/lib/pyspark.zip/pyspark/worker.py\", line 111, in main\n    process()\n  File \"/usr/lib/spark-1.6.1-bin-hadoop2.6/python/lib/pyspark.zip/pyspark/worker.py\", line 106, in process\n    serializer.dump_stream(func(split_index, iterator), outfile)\n  File \"/usr/lib/spark-1.6.1-bin-hadoop2.6/python/lib/pyspark.zip/pyspark/serializers.py\", line 263, in dump_stream\n    vs = list(itertools.islice(iterator, batch))\n  File \"/usr/lib/spark-1.6.1-bin-hadoop2.6/python/lib/pyspark.zip/pyspark/mllib/linalg/__init__.py\", line 77, in _convert_to_vector\n    raise TypeError(\"Cannot convert type %s into Vector\" % type(l))\nTypeError: Cannot convert type <type 'float'> into Vector\n\n\tat org.apache.spark.api.python.PythonRunner$$anon$1.read(PythonRDD.scala:166)\n\tat org.apache.spark.api.python.PythonRunner$$anon$1.<init>(PythonRDD.scala:207)\n\tat org.apache.spark.api.python.PythonRunner.compute(PythonRDD.scala:125)\n\tat org.apache.spark.api.python.PythonRDD.compute(PythonRDD.scala:70)\n\tat org.apache.spark.rdd.RDD.computeOrReadCheckpoint(RDD.scala:306)\n\tat org.apache.spark.rdd.RDD.iterator(RDD.scala:270)\n\tat org.apache.spark.rdd.MapPartitionsRDD.compute(MapPartitionsRDD.scala:38)\n\tat org.apache.spark.rdd.RDD.computeOrReadCheckpoint(RDD.scala:306)\n\tat org.apache.spark.rdd.RDD.iterator(RDD.scala:270)\n\tat org.apache.spark.scheduler.ResultTask.runTask(ResultTask.scala:66)\n\tat org.apache.spark.scheduler.Task.run(Task.scala:89)\n\tat org.apache.spark.executor.Executor$TaskRunner.run(Executor.scala:214)\n\tat java.util.concurrent.ThreadPoolExecutor.runWorker(ThreadPoolExecutor.java:1145)\n\tat java.util.concurrent.ThreadPoolExecutor$Worker.run(ThreadPoolExecutor.java:615)\n\tat java.lang.Thread.run(Thread.java:745)\n\nDriver stacktrace:\n\tat org.apache.spark.scheduler.DAGScheduler.org$apache$spark$scheduler$DAGScheduler$$failJobAndIndependentStages(DAGScheduler.scala:1431)\n\tat org.apache.spark.scheduler.DAGScheduler$$anonfun$abortStage$1.apply(DAGScheduler.scala:1419)\n\tat org.apache.spark.scheduler.DAGScheduler$$anonfun$abortStage$1.apply(DAGScheduler.scala:1418)\n\tat scala.collection.mutable.ResizableArray$class.foreach(ResizableArray.scala:59)\n\tat scala.collection.mutable.ArrayBuffer.foreach(ArrayBuffer.scala:47)\n\tat org.apache.spark.scheduler.DAGScheduler.abortStage(DAGScheduler.scala:1418)\n\tat org.apache.spark.scheduler.DAGScheduler$$anonfun$handleTaskSetFailed$1.apply(DAGScheduler.scala:799)\n\tat org.apache.spark.scheduler.DAGScheduler$$anonfun$handleTaskSetFailed$1.apply(DAGScheduler.scala:799)\n\tat scala.Option.foreach(Option.scala:236)\n\tat org.apache.spark.scheduler.DAGScheduler.handleTaskSetFailed(DAGScheduler.scala:799)\n\tat org.apache.spark.scheduler.DAGSchedulerEventProcessLoop.doOnReceive(DAGScheduler.scala:1640)\n\tat org.apache.spark.scheduler.DAGSchedulerEventProcessLoop.onReceive(DAGScheduler.scala:1599)\n\tat org.apache.spark.scheduler.DAGSchedulerEventProcessLoop.onReceive(DAGScheduler.scala:1588)\n\tat org.apache.spark.util.EventLoop$$anon$1.run(EventLoop.scala:48)\n\tat org.apache.spark.scheduler.DAGScheduler.runJob(DAGScheduler.scala:620)\n\tat org.apache.spark.SparkContext.runJob(SparkContext.scala:1832)\n\tat org.apache.spark.SparkContext.runJob(SparkContext.scala:1845)\n\tat org.apache.spark.SparkContext.runJob(SparkContext.scala:1858)\n\tat org.apache.spark.rdd.RDD$$anonfun$take$1.apply(RDD.scala:1328)\n\tat org.apache.spark.rdd.RDDOperationScope$.withScope(RDDOperationScope.scala:150)\n\tat org.apache.spark.rdd.RDDOperationScope$.withScope(RDDOperationScope.scala:111)\n\tat org.apache.spark.rdd.RDD.withScope(RDD.scala:316)\n\tat org.apache.spark.rdd.RDD.take(RDD.scala:1302)\n\tat org.apache.spark.rdd.RDD$$anonfun$first$1.apply(RDD.scala:1342)\n\tat org.apache.spark.rdd.RDDOperationScope$.withScope(RDDOperationScope.scala:150)\n\tat org.apache.spark.rdd.RDDOperationScope$.withScope(RDDOperationScope.scala:111)\n\tat org.apache.spark.rdd.RDD.withScope(RDD.scala:316)\n\tat org.apache.spark.rdd.RDD.first(RDD.scala:1341)\n\tat org.apache.spark.mllib.linalg.distributed.RowMatrix.numCols(RowMatrix.scala:61)\n\tat org.apache.spark.mllib.linalg.distributed.RowMatrix.computeCovariance(RowMatrix.scala:328)\n\tat org.apache.spark.mllib.stat.correlation.PearsonCorrelation$.computeCorrelationMatrix(PearsonCorrelation.scala:49)\n\tat org.apache.spark.mllib.stat.correlation.Correlations$.corrMatrix(Correlation.scala:66)\n\tat org.apache.spark.mllib.stat.Statistics$.corr(Statistics.scala:74)\n\tat org.apache.spark.mllib.api.python.PythonMLLibAPI.corr(PythonMLLibAPI.scala:813)\n\tat sun.reflect.NativeMethodAccessorImpl.invoke0(Native Method)\n\tat sun.reflect.NativeMethodAccessorImpl.invoke(NativeMethodAccessorImpl.java:57)\n\tat sun.reflect.DelegatingMethodAccessorImpl.invoke(DelegatingMethodAccessorImpl.java:43)\n\tat java.lang.reflect.Method.invoke(Method.java:606)\n\tat py4j.reflection.MethodInvoker.invoke(MethodInvoker.java:231)\n\tat py4j.reflection.ReflectionEngine.invoke(ReflectionEngine.java:381)\n\tat py4j.Gateway.invoke(Gateway.java:259)\n\tat py4j.commands.AbstractCommand.invokeMethod(AbstractCommand.java:133)\n\tat py4j.commands.CallCommand.execute(CallCommand.java:79)\n\tat py4j.GatewayConnection.run(GatewayConnection.java:209)\n\tat java.lang.Thread.run(Thread.java:745)\nCaused by: org.apache.spark.api.python.PythonException: Traceback (most recent call last):\n  File \"/usr/lib/spark-1.6.1-bin-hadoop2.6/python/lib/pyspark.zip/pyspark/worker.py\", line 111, in main\n    process()\n  File \"/usr/lib/spark-1.6.1-bin-hadoop2.6/python/lib/pyspark.zip/pyspark/worker.py\", line 106, in process\n    serializer.dump_stream(func(split_index, iterator), outfile)\n  File \"/usr/lib/spark-1.6.1-bin-hadoop2.6/python/lib/pyspark.zip/pyspark/serializers.py\", line 263, in dump_stream\n    vs = list(itertools.islice(iterator, batch))\n  File \"/usr/lib/spark-1.6.1-bin-hadoop2.6/python/lib/pyspark.zip/pyspark/mllib/linalg/__init__.py\", line 77, in _convert_to_vector\n    raise TypeError(\"Cannot convert type %s into Vector\" % type(l))\nTypeError: Cannot convert type <type 'float'> into Vector\n\n\tat org.apache.spark.api.python.PythonRunner$$anon$1.read(PythonRDD.scala:166)\n\tat org.apache.spark.api.python.PythonRunner$$anon$1.<init>(PythonRDD.scala:207)\n\tat org.apache.spark.api.python.PythonRunner.compute(PythonRDD.scala:125)\n\tat org.apache.spark.api.python.PythonRDD.compute(PythonRDD.scala:70)\n\tat org.apache.spark.rdd.RDD.computeOrReadCheckpoint(RDD.scala:306)\n\tat org.apache.spark.rdd.RDD.iterator(RDD.scala:270)\n\tat org.apache.spark.rdd.MapPartitionsRDD.compute(MapPartitionsRDD.scala:38)\n\tat org.apache.spark.rdd.RDD.computeOrReadCheckpoint(RDD.scala:306)\n\tat org.apache.spark.rdd.RDD.iterator(RDD.scala:270)\n\tat org.apache.spark.scheduler.ResultTask.runTask(ResultTask.scala:66)\n\tat org.apache.spark.scheduler.Task.run(Task.scala:89)\n\tat org.apache.spark.executor.Executor$TaskRunner.run(Executor.scala:214)\n\tat java.util.concurrent.ThreadPoolExecutor.runWorker(ThreadPoolExecutor.java:1145)\n\tat java.util.concurrent.ThreadPoolExecutor$Worker.run(ThreadPoolExecutor.java:615)\n\t... 1 more\n"
     ]
    }
   ],
   "source": [
    "data = rdd_from_df.map(lambda r:float(r[0]))\n",
    "print(Statistics.corr(data, method=\"pearson\"))"
   ]
  },
  {
   "cell_type": "code",
   "execution_count": 32,
   "metadata": {
    "collapsed": false
   },
   "outputs": [
    {
     "name": "stdout",
     "output_type": "stream",
     "text": [
      "0.0451973411512\n"
     ]
    }
   ],
   "source": [
    "print(Statistics.corr(seriesX, seriesY, method=\"pearson\"))"
   ]
  },
  {
   "cell_type": "code",
   "execution_count": 72,
   "metadata": {
    "collapsed": false
   },
   "outputs": [
    {
     "data": {
      "text/plain": [
       "DataFrame[encounter_id: int, patient_nbr: int, race: string, gender: string, age: string, weight: string, admission_type_id: int, discharge_disposition_id: int, admission_source_id: int, time_in_hospital: int, payer_code: string, medical_specialty: string, num_lab_procedures: int, num_procedures: int, num_medications: int, number_outpatient: int, number_emergency: int, number_inpatient: int, diag_1: string, diag_2: string, diag_3: string, number_diagnoses: int, max_glu_serum: string, A1Cresult: string, metformin: string, repaglinide: string, nateglinide: string, chlorpropamide: string, glimepiride: string, acetohexamide: string, glipizide: string, glyburide: string, tolbutamide: string, pioglitazone: string, rosiglitazone: string, acarbose: string, miglitol: string, troglitazone: string, tolazamide: string, examide: string, citoglipton: string, insulin: string, glyburide-metformin: string, glipizide-metformin: string, glimepiride-pioglitazone: string, metformin-rosiglitazone: string, metformin-pioglitazone: string, change: string, diabetesMed: string, age_string: string, age_decade: int]"
      ]
     },
     "execution_count": 72,
     "metadata": {},
     "output_type": "execute_result"
    }
   ],
   "source": [
    "df_from_databricks[[c for c in df_from_databricks.columns if c not in [\"readmitted\"]]]"
   ]
  },
  {
   "cell_type": "code",
   "execution_count": 47,
   "metadata": {
    "collapsed": false
   },
   "outputs": [
    {
     "data": {
      "text/plain": [
       "[Row(encounter_id=2278392, patient_nbr=8222157, race=u'Caucasian', gender=u'Female', age=u'[0-10)', weight=u'?', admission_type_id=6, discharge_disposition_id=25, admission_source_id=1, time_in_hospital=1, payer_code=u'?', medical_specialty=u'Pediatrics-Endocrinology', num_lab_procedures=41, num_procedures=0, num_medications=1, number_outpatient=0, number_emergency=0, number_inpatient=0, diag_1=u'250.83', diag_2=u'?', diag_3=u'?', number_diagnoses=1, max_glu_serum=u'None', A1Cresult=u'None', metformin=u'No', repaglinide=u'No', nateglinide=u'No', chlorpropamide=u'No', glimepiride=u'No', acetohexamide=u'No', glipizide=u'No', glyburide=u'No', tolbutamide=u'No', pioglitazone=u'No', rosiglitazone=u'No', acarbose=u'No', miglitol=u'No', troglitazone=u'No', tolazamide=u'No', examide=u'No', citoglipton=u'No', insulin=u'No', glyburide-metformin=u'No', glipizide-metformin=u'No', glimepiride-pioglitazone=u'No', metformin-rosiglitazone=u'No', metformin-pioglitazone=u'No', change=u'No', diabetesMed=u'No', readmitted=u'NO', age_string=u'[0-10)', age_decade=0),\n",
       " Row(encounter_id=149190, patient_nbr=55629189, race=u'Caucasian', gender=u'Female', age=u'[10-20)', weight=u'?', admission_type_id=1, discharge_disposition_id=1, admission_source_id=7, time_in_hospital=3, payer_code=u'?', medical_specialty=u'?', num_lab_procedures=59, num_procedures=0, num_medications=18, number_outpatient=0, number_emergency=0, number_inpatient=0, diag_1=u'276', diag_2=u'250.01', diag_3=u'255', number_diagnoses=9, max_glu_serum=u'None', A1Cresult=u'None', metformin=u'No', repaglinide=u'No', nateglinide=u'No', chlorpropamide=u'No', glimepiride=u'No', acetohexamide=u'No', glipizide=u'No', glyburide=u'No', tolbutamide=u'No', pioglitazone=u'No', rosiglitazone=u'No', acarbose=u'No', miglitol=u'No', troglitazone=u'No', tolazamide=u'No', examide=u'No', citoglipton=u'No', insulin=u'Up', glyburide-metformin=u'No', glipizide-metformin=u'No', glimepiride-pioglitazone=u'No', metformin-rosiglitazone=u'No', metformin-pioglitazone=u'No', change=u'Ch', diabetesMed=u'Yes', readmitted=u'>30', age_string=u'[10-20)', age_decade=1),\n",
       " Row(encounter_id=64410, patient_nbr=86047875, race=u'AfricanAmerican', gender=u'Female', age=u'[20-30)', weight=u'?', admission_type_id=1, discharge_disposition_id=1, admission_source_id=7, time_in_hospital=2, payer_code=u'?', medical_specialty=u'?', num_lab_procedures=11, num_procedures=5, num_medications=13, number_outpatient=2, number_emergency=0, number_inpatient=1, diag_1=u'648', diag_2=u'250', diag_3=u'V27', number_diagnoses=6, max_glu_serum=u'None', A1Cresult=u'None', metformin=u'No', repaglinide=u'No', nateglinide=u'No', chlorpropamide=u'No', glimepiride=u'No', acetohexamide=u'No', glipizide=u'Steady', glyburide=u'No', tolbutamide=u'No', pioglitazone=u'No', rosiglitazone=u'No', acarbose=u'No', miglitol=u'No', troglitazone=u'No', tolazamide=u'No', examide=u'No', citoglipton=u'No', insulin=u'No', glyburide-metformin=u'No', glipizide-metformin=u'No', glimepiride-pioglitazone=u'No', metformin-rosiglitazone=u'No', metformin-pioglitazone=u'No', change=u'No', diabetesMed=u'Yes', readmitted=u'NO', age_string=u'[20-30)', age_decade=2),\n",
       " Row(encounter_id=500364, patient_nbr=82442376, race=u'Caucasian', gender=u'Male', age=u'[30-40)', weight=u'?', admission_type_id=1, discharge_disposition_id=1, admission_source_id=7, time_in_hospital=2, payer_code=u'?', medical_specialty=u'?', num_lab_procedures=44, num_procedures=1, num_medications=16, number_outpatient=0, number_emergency=0, number_inpatient=0, diag_1=u'8', diag_2=u'250.43', diag_3=u'403', number_diagnoses=7, max_glu_serum=u'None', A1Cresult=u'None', metformin=u'No', repaglinide=u'No', nateglinide=u'No', chlorpropamide=u'No', glimepiride=u'No', acetohexamide=u'No', glipizide=u'No', glyburide=u'No', tolbutamide=u'No', pioglitazone=u'No', rosiglitazone=u'No', acarbose=u'No', miglitol=u'No', troglitazone=u'No', tolazamide=u'No', examide=u'No', citoglipton=u'No', insulin=u'Up', glyburide-metformin=u'No', glipizide-metformin=u'No', glimepiride-pioglitazone=u'No', metformin-rosiglitazone=u'No', metformin-pioglitazone=u'No', change=u'Ch', diabetesMed=u'Yes', readmitted=u'NO', age_string=u'[30-40)', age_decade=3),\n",
       " Row(encounter_id=16680, patient_nbr=42519267, race=u'Caucasian', gender=u'Male', age=u'[40-50)', weight=u'?', admission_type_id=1, discharge_disposition_id=1, admission_source_id=7, time_in_hospital=1, payer_code=u'?', medical_specialty=u'?', num_lab_procedures=51, num_procedures=0, num_medications=8, number_outpatient=0, number_emergency=0, number_inpatient=0, diag_1=u'197', diag_2=u'157', diag_3=u'250', number_diagnoses=5, max_glu_serum=u'None', A1Cresult=u'None', metformin=u'No', repaglinide=u'No', nateglinide=u'No', chlorpropamide=u'No', glimepiride=u'No', acetohexamide=u'No', glipizide=u'Steady', glyburide=u'No', tolbutamide=u'No', pioglitazone=u'No', rosiglitazone=u'No', acarbose=u'No', miglitol=u'No', troglitazone=u'No', tolazamide=u'No', examide=u'No', citoglipton=u'No', insulin=u'Steady', glyburide-metformin=u'No', glipizide-metformin=u'No', glimepiride-pioglitazone=u'No', metformin-rosiglitazone=u'No', metformin-pioglitazone=u'No', change=u'Ch', diabetesMed=u'Yes', readmitted=u'NO', age_string=u'[40-50)', age_decade=4),\n",
       " Row(encounter_id=35754, patient_nbr=82637451, race=u'Caucasian', gender=u'Male', age=u'[50-60)', weight=u'?', admission_type_id=2, discharge_disposition_id=1, admission_source_id=2, time_in_hospital=3, payer_code=u'?', medical_specialty=u'?', num_lab_procedures=31, num_procedures=6, num_medications=16, number_outpatient=0, number_emergency=0, number_inpatient=0, diag_1=u'414', diag_2=u'411', diag_3=u'250', number_diagnoses=9, max_glu_serum=u'None', A1Cresult=u'None', metformin=u'No', repaglinide=u'No', nateglinide=u'No', chlorpropamide=u'No', glimepiride=u'No', acetohexamide=u'No', glipizide=u'No', glyburide=u'No', tolbutamide=u'No', pioglitazone=u'No', rosiglitazone=u'No', acarbose=u'No', miglitol=u'No', troglitazone=u'No', tolazamide=u'No', examide=u'No', citoglipton=u'No', insulin=u'Steady', glyburide-metformin=u'No', glipizide-metformin=u'No', glimepiride-pioglitazone=u'No', metformin-rosiglitazone=u'No', metformin-pioglitazone=u'No', change=u'No', diabetesMed=u'Yes', readmitted=u'>30', age_string=u'[50-60)', age_decade=5),\n",
       " Row(encounter_id=55842, patient_nbr=84259809, race=u'Caucasian', gender=u'Male', age=u'[60-70)', weight=u'?', admission_type_id=3, discharge_disposition_id=1, admission_source_id=2, time_in_hospital=4, payer_code=u'?', medical_specialty=u'?', num_lab_procedures=70, num_procedures=1, num_medications=21, number_outpatient=0, number_emergency=0, number_inpatient=0, diag_1=u'414', diag_2=u'411', diag_3=u'V45', number_diagnoses=7, max_glu_serum=u'None', A1Cresult=u'None', metformin=u'Steady', repaglinide=u'No', nateglinide=u'No', chlorpropamide=u'No', glimepiride=u'Steady', acetohexamide=u'No', glipizide=u'No', glyburide=u'No', tolbutamide=u'No', pioglitazone=u'No', rosiglitazone=u'No', acarbose=u'No', miglitol=u'No', troglitazone=u'No', tolazamide=u'No', examide=u'No', citoglipton=u'No', insulin=u'Steady', glyburide-metformin=u'No', glipizide-metformin=u'No', glimepiride-pioglitazone=u'No', metformin-rosiglitazone=u'No', metformin-pioglitazone=u'No', change=u'Ch', diabetesMed=u'Yes', readmitted=u'NO', age_string=u'[60-70)', age_decade=6),\n",
       " Row(encounter_id=63768, patient_nbr=114882984, race=u'Caucasian', gender=u'Male', age=u'[70-80)', weight=u'?', admission_type_id=1, discharge_disposition_id=1, admission_source_id=7, time_in_hospital=5, payer_code=u'?', medical_specialty=u'?', num_lab_procedures=73, num_procedures=0, num_medications=12, number_outpatient=0, number_emergency=0, number_inpatient=0, diag_1=u'428', diag_2=u'492', diag_3=u'250', number_diagnoses=8, max_glu_serum=u'None', A1Cresult=u'None', metformin=u'No', repaglinide=u'No', nateglinide=u'No', chlorpropamide=u'No', glimepiride=u'No', acetohexamide=u'No', glipizide=u'No', glyburide=u'Steady', tolbutamide=u'No', pioglitazone=u'No', rosiglitazone=u'No', acarbose=u'No', miglitol=u'No', troglitazone=u'No', tolazamide=u'No', examide=u'No', citoglipton=u'No', insulin=u'No', glyburide-metformin=u'No', glipizide-metformin=u'No', glimepiride-pioglitazone=u'No', metformin-rosiglitazone=u'No', metformin-pioglitazone=u'No', change=u'No', diabetesMed=u'Yes', readmitted=u'>30', age_string=u'[70-80)', age_decade=7),\n",
       " Row(encounter_id=12522, patient_nbr=48330783, race=u'Caucasian', gender=u'Female', age=u'[80-90)', weight=u'?', admission_type_id=2, discharge_disposition_id=1, admission_source_id=4, time_in_hospital=13, payer_code=u'?', medical_specialty=u'?', num_lab_procedures=68, num_procedures=2, num_medications=28, number_outpatient=0, number_emergency=0, number_inpatient=0, diag_1=u'398', diag_2=u'427', diag_3=u'38', number_diagnoses=8, max_glu_serum=u'None', A1Cresult=u'None', metformin=u'No', repaglinide=u'No', nateglinide=u'No', chlorpropamide=u'No', glimepiride=u'No', acetohexamide=u'No', glipizide=u'Steady', glyburide=u'No', tolbutamide=u'No', pioglitazone=u'No', rosiglitazone=u'No', acarbose=u'No', miglitol=u'No', troglitazone=u'No', tolazamide=u'No', examide=u'No', citoglipton=u'No', insulin=u'Steady', glyburide-metformin=u'No', glipizide-metformin=u'No', glimepiride-pioglitazone=u'No', metformin-rosiglitazone=u'No', metformin-pioglitazone=u'No', change=u'Ch', diabetesMed=u'Yes', readmitted=u'NO', age_string=u'[80-90)', age_decade=8),\n",
       " Row(encounter_id=15738, patient_nbr=63555939, race=u'Caucasian', gender=u'Female', age=u'[90-100)', weight=u'?', admission_type_id=3, discharge_disposition_id=3, admission_source_id=4, time_in_hospital=12, payer_code=u'?', medical_specialty=u'InternalMedicine', num_lab_procedures=33, num_procedures=3, num_medications=18, number_outpatient=0, number_emergency=0, number_inpatient=0, diag_1=u'434', diag_2=u'198', diag_3=u'486', number_diagnoses=8, max_glu_serum=u'None', A1Cresult=u'None', metformin=u'No', repaglinide=u'No', nateglinide=u'No', chlorpropamide=u'No', glimepiride=u'No', acetohexamide=u'No', glipizide=u'No', glyburide=u'No', tolbutamide=u'No', pioglitazone=u'No', rosiglitazone=u'Steady', acarbose=u'No', miglitol=u'No', troglitazone=u'No', tolazamide=u'No', examide=u'No', citoglipton=u'No', insulin=u'Steady', glyburide-metformin=u'No', glipizide-metformin=u'No', glimepiride-pioglitazone=u'No', metformin-rosiglitazone=u'No', metformin-pioglitazone=u'No', change=u'Ch', diabetesMed=u'Yes', readmitted=u'NO', age_string=u'[90-100)', age_decade=9)]"
      ]
     },
     "execution_count": 47,
     "metadata": {},
     "output_type": "execute_result"
    }
   ],
   "source": [
    "df_from_databricks.take(10)"
   ]
  },
  {
   "cell_type": "code",
   "execution_count": null,
   "metadata": {
    "collapsed": true
   },
   "outputs": [],
   "source": []
  },
  {
   "cell_type": "code",
   "execution_count": null,
   "metadata": {
    "collapsed": true
   },
   "outputs": [],
   "source": []
  },
  {
   "cell_type": "code",
   "execution_count": null,
   "metadata": {
    "collapsed": true
   },
   "outputs": [],
   "source": []
  },
  {
   "cell_type": "markdown",
   "metadata": {},
   "source": [
    "### Bibliography"
   ]
  },
  {
   "cell_type": "markdown",
   "metadata": {},
   "source": [
    "https://databricks.com/blog/2014/03/26/spark-sql-manipulating-structured-data-using-spark-2.html"
   ]
  },
  {
   "cell_type": "markdown",
   "metadata": {},
   "source": [
    "SparkSQL Optimisation System called Catalyst \n",
    "\n",
    "https://databricks.com/blog/2015/04/13/deep-dive-into-spark-sqls-catalyst-optimizer.html"
   ]
  },
  {
   "cell_type": "markdown",
   "metadata": {},
   "source": []
  },
  {
   "cell_type": "code",
   "execution_count": null,
   "metadata": {
    "collapsed": true
   },
   "outputs": [],
   "source": []
  }
 ],
 "metadata": {
  "kernelspec": {
   "display_name": "Python 2",
   "language": "python",
   "name": "python2"
  },
  "language_info": {
   "codemirror_mode": {
    "name": "ipython",
    "version": 2
   },
   "file_extension": ".py",
   "mimetype": "text/x-python",
   "name": "python",
   "nbconvert_exporter": "python",
   "pygments_lexer": "ipython2",
   "version": "2.7.9"
  }
 },
 "nbformat": 4,
 "nbformat_minor": 0
}
